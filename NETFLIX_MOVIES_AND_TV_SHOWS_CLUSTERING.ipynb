{
  "nbformat": 4,
  "nbformat_minor": 0,
  "metadata": {
    "colab": {
      "name": "NETFLIX MOVIES AND TV SHOWS CLUSTERING.ipynb",
      "provenance": [],
      "collapsed_sections": [
        "AzGDqdC4fZ-b",
        "PU8b9SroTn7n",
        "oSz3BJwPZmkD",
        "0LbmB19JjIyI",
        "eD3kt2GXn6id",
        "hbFwsQ1nqJB0",
        "XiXCCvnSvn6_",
        "zawcu51v7rF0"
      ],
      "include_colab_link": true
    },
    "kernelspec": {
      "name": "python3",
      "display_name": "Python 3"
    },
    "language_info": {
      "name": "python"
    }
  },
  "cells": [
    {
      "cell_type": "markdown",
      "metadata": {
        "id": "view-in-github",
        "colab_type": "text"
      },
      "source": [
        "<a href=\"https://colab.research.google.com/github/RoshanJamthe/NETFLIX-MOVIES-AND-TV-SHOWS-CLUSTERING/blob/main/NETFLIX_MOVIES_AND_TV_SHOWS_CLUSTERING.ipynb\" target=\"_parent\"><img src=\"https://colab.research.google.com/assets/colab-badge.svg\" alt=\"Open In Colab\"/></a>"
      ]
    },
    {
      "cell_type": "markdown",
      "metadata": {
        "id": "LGcl5Bv9ed6u"
      },
      "source": [
        "# **Problem Statement**"
      ]
    },
    {
      "cell_type": "markdown",
      "metadata": {
        "id": "8M5kyFaVjzXk"
      },
      "source": [
        "This dataset consists of tv shows and movies available on Netflix as of 2019. The dataset is collected from Flixable which is a third-party Netflix search engine.\n",
        "\n",
        "In 2018, they released an interesting report which shows that the number of TV shows on Netflix has nearly tripled since 2010. The streaming service’s number of movies has decreased by more than 2,000 titles since 2010, while its number of TV shows has nearly tripled. It will be interesting to explore what all other insights can be obtained from the same dataset.\n",
        "\n",
        "Integrating this dataset with other external datasets such as IMDB ratings, rotten tomatoes can also provide many interesting findings."
      ]
    },
    {
      "cell_type": "markdown",
      "metadata": {
        "id": "tLx5cJO8hzb1"
      },
      "source": [
        "## <b>In this  project, you are required to do </b>\n",
        "1. Exploratory Data Analysis \n",
        "\n",
        "2. Understanding what type (whether movie or tv show) is available in different countries\n",
        "\n",
        "3. Is Netflix has increasingly focusing on TV rather than movies in recent years.\n",
        "4. Clustering similar content by matching text-based features\n",
        "\n"
      ]
    },
    {
      "cell_type": "markdown",
      "metadata": {
        "id": "AzGDqdC4fZ-b"
      },
      "source": [
        "# **Attribute Information**"
      ]
    },
    {
      "cell_type": "markdown",
      "metadata": {
        "id": "jhfLYargscGV"
      },
      "source": [
        "1. show_id : Unique ID for every Movie / Tv Show\n",
        "\n",
        "2. type : Identifier - A Movie or TV Show\n",
        "\n",
        "3. title : Title of the Movie / Tv Show\n",
        "\n",
        "4. director : Director of the Movie\n",
        "\n",
        "5. cast : Actors involved in the movie / show\n",
        "\n",
        "6. country : Country where the movie / show was produced\n",
        "\n",
        "7. date_added : Date it was added on Netflix\n",
        "\n",
        "8. release_year : Actual Releaseyear of the movie / show\n",
        "\n",
        "9. rating : TV Rating of the movie / show\n",
        "\n",
        "10. duration : Total Duration - in minutes or number of seasons\n",
        "\n",
        "11. listed_in : Genere\n",
        "\n",
        "12. description: The Summary description"
      ]
    },
    {
      "cell_type": "markdown",
      "source": [
        "# <b><u> Exploratory Data Analysis"
      ],
      "metadata": {
        "id": "8uiVU10o-vIm"
      }
    },
    {
      "cell_type": "markdown",
      "source": [
        "##Dataset Loading and viewing"
      ],
      "metadata": {
        "id": "9TU4Xhv9TAiI"
      }
    },
    {
      "cell_type": "code",
      "source": [
        "# EDA libraries\n",
        "import numpy as np\n",
        "import pandas as pd\n",
        "import matplotlib.pyplot as plt\n",
        "import seaborn as sns\n",
        "\n",
        "# To ignore the warnings\n",
        "import warnings\n",
        "warnings.filterwarnings(\"ignore\")"
      ],
      "metadata": {
        "id": "BaYpBz9k-upg"
      },
      "execution_count": 1,
      "outputs": []
    },
    {
      "cell_type": "code",
      "source": [
        "from google.colab import drive\n",
        "drive.mount('/content/drive')"
      ],
      "metadata": {
        "colab": {
          "base_uri": "https://localhost:8080/"
        },
        "id": "_p72wGGi_pn5",
        "outputId": "154f18df-e621-498e-95db-b68f4709f4f3"
      },
      "execution_count": 2,
      "outputs": [
        {
          "output_type": "stream",
          "name": "stdout",
          "text": [
            "Mounted at /content/drive\n"
          ]
        }
      ]
    },
    {
      "cell_type": "code",
      "source": [
        "# Dataset loading\n",
        "netflix_data = pd.read_csv('/content/drive/MyDrive/Almabetter/Capstone project/Clustering/NETFLIX MOVIES AND TV SHOWS CLUSTERING/NETFLIX MOVIES AND TV SHOWS CLUSTERING.csv')"
      ],
      "metadata": {
        "id": "YNH-iYtT_cBt"
      },
      "execution_count": 3,
      "outputs": []
    },
    {
      "cell_type": "code",
      "source": [
        "# View the data\n",
        "netflix_data.head()"
      ],
      "metadata": {
        "colab": {
          "base_uri": "https://localhost:8080/",
          "height": 337
        },
        "id": "9ysc8zgb_4CB",
        "outputId": "03ccdd89-f8e8-4f46-bd36-1327c8c06cc4"
      },
      "execution_count": 4,
      "outputs": [
        {
          "output_type": "execute_result",
          "data": {
            "text/plain": [
              "  show_id     type  title           director  \\\n",
              "0      s1  TV Show     3%                NaN   \n",
              "1      s2    Movie   7:19  Jorge Michel Grau   \n",
              "2      s3    Movie  23:59       Gilbert Chan   \n",
              "3      s4    Movie      9        Shane Acker   \n",
              "4      s5    Movie     21     Robert Luketic   \n",
              "\n",
              "                                                cast        country  \\\n",
              "0  João Miguel, Bianca Comparato, Michel Gomes, R...         Brazil   \n",
              "1  Demián Bichir, Héctor Bonilla, Oscar Serrano, ...         Mexico   \n",
              "2  Tedd Chan, Stella Chung, Henley Hii, Lawrence ...      Singapore   \n",
              "3  Elijah Wood, John C. Reilly, Jennifer Connelly...  United States   \n",
              "4  Jim Sturgess, Kevin Spacey, Kate Bosworth, Aar...  United States   \n",
              "\n",
              "          date_added  release_year rating   duration  \\\n",
              "0    August 14, 2020          2020  TV-MA  4 Seasons   \n",
              "1  December 23, 2016          2016  TV-MA     93 min   \n",
              "2  December 20, 2018          2011      R     78 min   \n",
              "3  November 16, 2017          2009  PG-13     80 min   \n",
              "4    January 1, 2020          2008  PG-13    123 min   \n",
              "\n",
              "                                           listed_in  \\\n",
              "0  International TV Shows, TV Dramas, TV Sci-Fi &...   \n",
              "1                       Dramas, International Movies   \n",
              "2                Horror Movies, International Movies   \n",
              "3  Action & Adventure, Independent Movies, Sci-Fi...   \n",
              "4                                             Dramas   \n",
              "\n",
              "                                         description  \n",
              "0  In a future where the elite inhabit an island ...  \n",
              "1  After a devastating earthquake hits Mexico Cit...  \n",
              "2  When an army recruit is found dead, his fellow...  \n",
              "3  In a postapocalyptic world, rag-doll robots hi...  \n",
              "4  A brilliant group of students become card-coun...  "
            ],
            "text/html": [
              "\n",
              "  <div id=\"df-c47fbdb5-02cf-41a5-bf75-08ffb4e9dcc8\">\n",
              "    <div class=\"colab-df-container\">\n",
              "      <div>\n",
              "<style scoped>\n",
              "    .dataframe tbody tr th:only-of-type {\n",
              "        vertical-align: middle;\n",
              "    }\n",
              "\n",
              "    .dataframe tbody tr th {\n",
              "        vertical-align: top;\n",
              "    }\n",
              "\n",
              "    .dataframe thead th {\n",
              "        text-align: right;\n",
              "    }\n",
              "</style>\n",
              "<table border=\"1\" class=\"dataframe\">\n",
              "  <thead>\n",
              "    <tr style=\"text-align: right;\">\n",
              "      <th></th>\n",
              "      <th>show_id</th>\n",
              "      <th>type</th>\n",
              "      <th>title</th>\n",
              "      <th>director</th>\n",
              "      <th>cast</th>\n",
              "      <th>country</th>\n",
              "      <th>date_added</th>\n",
              "      <th>release_year</th>\n",
              "      <th>rating</th>\n",
              "      <th>duration</th>\n",
              "      <th>listed_in</th>\n",
              "      <th>description</th>\n",
              "    </tr>\n",
              "  </thead>\n",
              "  <tbody>\n",
              "    <tr>\n",
              "      <th>0</th>\n",
              "      <td>s1</td>\n",
              "      <td>TV Show</td>\n",
              "      <td>3%</td>\n",
              "      <td>NaN</td>\n",
              "      <td>João Miguel, Bianca Comparato, Michel Gomes, R...</td>\n",
              "      <td>Brazil</td>\n",
              "      <td>August 14, 2020</td>\n",
              "      <td>2020</td>\n",
              "      <td>TV-MA</td>\n",
              "      <td>4 Seasons</td>\n",
              "      <td>International TV Shows, TV Dramas, TV Sci-Fi &amp;...</td>\n",
              "      <td>In a future where the elite inhabit an island ...</td>\n",
              "    </tr>\n",
              "    <tr>\n",
              "      <th>1</th>\n",
              "      <td>s2</td>\n",
              "      <td>Movie</td>\n",
              "      <td>7:19</td>\n",
              "      <td>Jorge Michel Grau</td>\n",
              "      <td>Demián Bichir, Héctor Bonilla, Oscar Serrano, ...</td>\n",
              "      <td>Mexico</td>\n",
              "      <td>December 23, 2016</td>\n",
              "      <td>2016</td>\n",
              "      <td>TV-MA</td>\n",
              "      <td>93 min</td>\n",
              "      <td>Dramas, International Movies</td>\n",
              "      <td>After a devastating earthquake hits Mexico Cit...</td>\n",
              "    </tr>\n",
              "    <tr>\n",
              "      <th>2</th>\n",
              "      <td>s3</td>\n",
              "      <td>Movie</td>\n",
              "      <td>23:59</td>\n",
              "      <td>Gilbert Chan</td>\n",
              "      <td>Tedd Chan, Stella Chung, Henley Hii, Lawrence ...</td>\n",
              "      <td>Singapore</td>\n",
              "      <td>December 20, 2018</td>\n",
              "      <td>2011</td>\n",
              "      <td>R</td>\n",
              "      <td>78 min</td>\n",
              "      <td>Horror Movies, International Movies</td>\n",
              "      <td>When an army recruit is found dead, his fellow...</td>\n",
              "    </tr>\n",
              "    <tr>\n",
              "      <th>3</th>\n",
              "      <td>s4</td>\n",
              "      <td>Movie</td>\n",
              "      <td>9</td>\n",
              "      <td>Shane Acker</td>\n",
              "      <td>Elijah Wood, John C. Reilly, Jennifer Connelly...</td>\n",
              "      <td>United States</td>\n",
              "      <td>November 16, 2017</td>\n",
              "      <td>2009</td>\n",
              "      <td>PG-13</td>\n",
              "      <td>80 min</td>\n",
              "      <td>Action &amp; Adventure, Independent Movies, Sci-Fi...</td>\n",
              "      <td>In a postapocalyptic world, rag-doll robots hi...</td>\n",
              "    </tr>\n",
              "    <tr>\n",
              "      <th>4</th>\n",
              "      <td>s5</td>\n",
              "      <td>Movie</td>\n",
              "      <td>21</td>\n",
              "      <td>Robert Luketic</td>\n",
              "      <td>Jim Sturgess, Kevin Spacey, Kate Bosworth, Aar...</td>\n",
              "      <td>United States</td>\n",
              "      <td>January 1, 2020</td>\n",
              "      <td>2008</td>\n",
              "      <td>PG-13</td>\n",
              "      <td>123 min</td>\n",
              "      <td>Dramas</td>\n",
              "      <td>A brilliant group of students become card-coun...</td>\n",
              "    </tr>\n",
              "  </tbody>\n",
              "</table>\n",
              "</div>\n",
              "      <button class=\"colab-df-convert\" onclick=\"convertToInteractive('df-c47fbdb5-02cf-41a5-bf75-08ffb4e9dcc8')\"\n",
              "              title=\"Convert this dataframe to an interactive table.\"\n",
              "              style=\"display:none;\">\n",
              "        \n",
              "  <svg xmlns=\"http://www.w3.org/2000/svg\" height=\"24px\"viewBox=\"0 0 24 24\"\n",
              "       width=\"24px\">\n",
              "    <path d=\"M0 0h24v24H0V0z\" fill=\"none\"/>\n",
              "    <path d=\"M18.56 5.44l.94 2.06.94-2.06 2.06-.94-2.06-.94-.94-2.06-.94 2.06-2.06.94zm-11 1L8.5 8.5l.94-2.06 2.06-.94-2.06-.94L8.5 2.5l-.94 2.06-2.06.94zm10 10l.94 2.06.94-2.06 2.06-.94-2.06-.94-.94-2.06-.94 2.06-2.06.94z\"/><path d=\"M17.41 7.96l-1.37-1.37c-.4-.4-.92-.59-1.43-.59-.52 0-1.04.2-1.43.59L10.3 9.45l-7.72 7.72c-.78.78-.78 2.05 0 2.83L4 21.41c.39.39.9.59 1.41.59.51 0 1.02-.2 1.41-.59l7.78-7.78 2.81-2.81c.8-.78.8-2.07 0-2.86zM5.41 20L4 18.59l7.72-7.72 1.47 1.35L5.41 20z\"/>\n",
              "  </svg>\n",
              "      </button>\n",
              "      \n",
              "  <style>\n",
              "    .colab-df-container {\n",
              "      display:flex;\n",
              "      flex-wrap:wrap;\n",
              "      gap: 12px;\n",
              "    }\n",
              "\n",
              "    .colab-df-convert {\n",
              "      background-color: #E8F0FE;\n",
              "      border: none;\n",
              "      border-radius: 50%;\n",
              "      cursor: pointer;\n",
              "      display: none;\n",
              "      fill: #1967D2;\n",
              "      height: 32px;\n",
              "      padding: 0 0 0 0;\n",
              "      width: 32px;\n",
              "    }\n",
              "\n",
              "    .colab-df-convert:hover {\n",
              "      background-color: #E2EBFA;\n",
              "      box-shadow: 0px 1px 2px rgba(60, 64, 67, 0.3), 0px 1px 3px 1px rgba(60, 64, 67, 0.15);\n",
              "      fill: #174EA6;\n",
              "    }\n",
              "\n",
              "    [theme=dark] .colab-df-convert {\n",
              "      background-color: #3B4455;\n",
              "      fill: #D2E3FC;\n",
              "    }\n",
              "\n",
              "    [theme=dark] .colab-df-convert:hover {\n",
              "      background-color: #434B5C;\n",
              "      box-shadow: 0px 1px 3px 1px rgba(0, 0, 0, 0.15);\n",
              "      filter: drop-shadow(0px 1px 2px rgba(0, 0, 0, 0.3));\n",
              "      fill: #FFFFFF;\n",
              "    }\n",
              "  </style>\n",
              "\n",
              "      <script>\n",
              "        const buttonEl =\n",
              "          document.querySelector('#df-c47fbdb5-02cf-41a5-bf75-08ffb4e9dcc8 button.colab-df-convert');\n",
              "        buttonEl.style.display =\n",
              "          google.colab.kernel.accessAllowed ? 'block' : 'none';\n",
              "\n",
              "        async function convertToInteractive(key) {\n",
              "          const element = document.querySelector('#df-c47fbdb5-02cf-41a5-bf75-08ffb4e9dcc8');\n",
              "          const dataTable =\n",
              "            await google.colab.kernel.invokeFunction('convertToInteractive',\n",
              "                                                     [key], {});\n",
              "          if (!dataTable) return;\n",
              "\n",
              "          const docLinkHtml = 'Like what you see? Visit the ' +\n",
              "            '<a target=\"_blank\" href=https://colab.research.google.com/notebooks/data_table.ipynb>data table notebook</a>'\n",
              "            + ' to learn more about interactive tables.';\n",
              "          element.innerHTML = '';\n",
              "          dataTable['output_type'] = 'display_data';\n",
              "          await google.colab.output.renderOutput(dataTable, element);\n",
              "          const docLink = document.createElement('div');\n",
              "          docLink.innerHTML = docLinkHtml;\n",
              "          element.appendChild(docLink);\n",
              "        }\n",
              "      </script>\n",
              "    </div>\n",
              "  </div>\n",
              "  "
            ]
          },
          "metadata": {},
          "execution_count": 4
        }
      ]
    },
    {
      "cell_type": "code",
      "source": [
        "# Get feature info\n",
        "netflix_data.info()"
      ],
      "metadata": {
        "colab": {
          "base_uri": "https://localhost:8080/"
        },
        "id": "AJ-2cuRn_6jI",
        "outputId": "c4a3b5e1-b59b-47a8-f87e-12898b7b73b5"
      },
      "execution_count": 5,
      "outputs": [
        {
          "output_type": "stream",
          "name": "stdout",
          "text": [
            "<class 'pandas.core.frame.DataFrame'>\n",
            "RangeIndex: 7787 entries, 0 to 7786\n",
            "Data columns (total 12 columns):\n",
            " #   Column        Non-Null Count  Dtype \n",
            "---  ------        --------------  ----- \n",
            " 0   show_id       7787 non-null   object\n",
            " 1   type          7787 non-null   object\n",
            " 2   title         7787 non-null   object\n",
            " 3   director      5398 non-null   object\n",
            " 4   cast          7069 non-null   object\n",
            " 5   country       7280 non-null   object\n",
            " 6   date_added    7777 non-null   object\n",
            " 7   release_year  7787 non-null   int64 \n",
            " 8   rating        7780 non-null   object\n",
            " 9   duration      7787 non-null   object\n",
            " 10  listed_in     7787 non-null   object\n",
            " 11  description   7787 non-null   object\n",
            "dtypes: int64(1), object(11)\n",
            "memory usage: 730.2+ KB\n"
          ]
        }
      ]
    },
    {
      "cell_type": "markdown",
      "source": [
        "## Data Visualization"
      ],
      "metadata": {
        "id": "bTjxqL0oTirG"
      }
    },
    {
      "cell_type": "markdown",
      "source": [
        "### Out of Movies and Tv shows, Which are more in number?"
      ],
      "metadata": {
        "id": "PU8b9SroTn7n"
      }
    },
    {
      "cell_type": "code",
      "source": [
        "plt.figure(figsize=(18,6))\n",
        "plt.subplot(1,2,1)\n",
        "netflix_data['type'].value_counts().plot(kind='pie',fontsize=14, autopct='%1.1f%%',shadow=True, startangle=90,label= \" \",title='Type % Distribution') # Get the pie plot\n",
        "\n",
        "plt.subplot(1,2,2)\n",
        "netflix_data['type'].value_counts().plot(kind='bar',title='Type Number comparison',fontsize=14,grid=True,color=['steelblue','orange']) # Get the bar plot\n",
        "plt.show()"
      ],
      "metadata": {
        "colab": {
          "base_uri": "https://localhost:8080/",
          "height": 441
        },
        "id": "7ZDCSeYCASdN",
        "outputId": "ab8138e3-a379-4e31-d54b-6f997171c7c8"
      },
      "execution_count": 69,
      "outputs": [
        {
          "output_type": "display_data",
          "data": {
            "text/plain": [
              "<Figure size 1296x432 with 2 Axes>"
            ],
            "image/png": "[encoded data removed]"
          },
          "metadata": {
            "needs_background": "light"
          }
        }
      ]
    },
    {
      "cell_type": "markdown",
      "source": [
        "#### <u>Inference:</u> Movies on Netflix are more than twice in number than TV shows."
      ],
      "metadata": {
        "id": "47_LWZURi05c"
      }
    },
    {
      "cell_type": "markdown",
      "source": [
        "### Trend of number of movies/tv shows after 2010"
      ],
      "metadata": {
        "id": "oSz3BJwPZmkD"
      }
    },
    {
      "cell_type": "code",
      "source": [
        "# Ignoring the year 2021 for the plot\n",
        "fig, ax = plt.subplots(figsize=(7, 4), dpi=100) # Using suplots to get both lineplots in same figure\n",
        "ax.plot(netflix_data[(netflix_data['type']=='TV Show') & (netflix_data['release_year']>=2010)][['release_year','type']].groupby('release_year').count()[:-1], marker='o',linewidth=2,label='TV Shows') # Trend of tv shows\n",
        "ax.plot(netflix_data[(netflix_data['type']=='Movie')& (netflix_data['release_year']>=2010)][['release_year','type']].groupby('release_year').count()[:-1], marker='x',linewidth=2,label='Movies') # Trend of movies\n",
        "ax.set_xlabel('Year',fontsize=12)\n",
        "ax.set_ylabel('Count',fontsize=12)\n",
        "ax.set_title('Trend of number of Movies/TV shows over the years',fontsize=15,pad=10)\n",
        "ax.legend()\n",
        "plt.show()"
      ],
      "metadata": {
        "colab": {
          "base_uri": "https://localhost:8080/",
          "height": 416
        },
        "id": "eLZR2kVUUGLA",
        "outputId": "8fb56340-85bb-49bb-cbd4-a30e82f0d365"
      },
      "execution_count": 72,
      "outputs": [
        {
          "output_type": "display_data",
          "data": {
            "text/plain": [
              "<Figure size 700x400 with 1 Axes>"
            ],
            "image/png": "[encoded data removed]"
          },
          "metadata": {
            "needs_background": "light"
          }
        }
      ]
    },
    {
      "cell_type": "markdown",
      "source": [
        "#### <u>Inference:</u> It is clear from the plot that since past couple of years the focus from the Movies has been shifted towards TV shows."
      ],
      "metadata": {
        "id": "xuv65glTf4dM"
      }
    },
    {
      "cell_type": "markdown",
      "source": [
        "### Top 10 Most active Directors"
      ],
      "metadata": {
        "id": "0LbmB19JjIyI"
      }
    },
    {
      "cell_type": "code",
      "source": [
        "director_data = [] # Get all the occurences of directors in cast feature in this list\n",
        "for string in netflix_data[~netflix_data['director'].isna()]['director'].tolist():\n",
        "  temp = string.split(',')\n",
        "  for director in temp:\n",
        "    director_data.append(director.strip())"
      ],
      "metadata": {
        "id": "WiklwQmiNlHU"
      },
      "execution_count": 190,
      "outputs": []
    },
    {
      "cell_type": "code",
      "source": [
        "director_df = pd.Series(director_data) # Create a series using actor_data list"
      ],
      "metadata": {
        "id": "XtBaiFCsNlHY"
      },
      "execution_count": 191,
      "outputs": []
    },
    {
      "cell_type": "code",
      "source": [
        "director_df.value_counts() # Get the value_counts of actors"
      ],
      "metadata": {
        "colab": {
          "base_uri": "https://localhost:8080/"
        },
        "outputId": "2eeab20e-b0c5-4f97-b156-3cdd40d86959",
        "id": "N043a_ndNlHZ"
      },
      "execution_count": 192,
      "outputs": [
        {
          "output_type": "execute_result",
          "data": {
            "text/plain": [
              "Jan Suter              21\n",
              "Raúl Campos            19\n",
              "Marcus Raboy           16\n",
              "Jay Karas              15\n",
              "Cathy Garcia-Molina    13\n",
              "                       ..\n",
              "Sajid Khan              1\n",
              "Lucy van Beek           1\n",
              "Remi Weekes             1\n",
              "Jennifer Lynch          1\n",
              "Mozez Singh             1\n",
              "Length: 4478, dtype: int64"
            ]
          },
          "metadata": {},
          "execution_count": 192
        }
      ]
    },
    {
      "cell_type": "code",
      "source": [
        "plt.figure(figsize=(9,6))\n",
        "plots = director_df.value_counts()[:10].plot(kind='bar',animated=True)\n",
        "plt.xlabel('Directors',fontsize=13)\n",
        "plt.xticks(rotation=60,color='red')\n",
        "\n",
        "plt.ylabel('Number of Movies Directed',fontsize=13)\n",
        "plt.title('Top 10 most active Directors',fontsize=17)\n",
        "\n",
        "# Iterrating over the bars one-by-one\n",
        "for bar in plots.patches:\n",
        "   \n",
        "  # Using Matplotlib's annotate function and\n",
        "  # passing the coordinates where the annotation shall be done\n",
        "  # x-coordinate: bar.get_x() + bar.get_width() / 2\n",
        "  # y-coordinate: bar.get_height()\n",
        "  # free space to be left to make graph pleasing: (0, 8)\n",
        "  # ha and va stand for the horizontal and vertical alignment\n",
        "    plots.annotate(format(bar.get_height()),\n",
        "                   (bar.get_x() + bar.get_width() / 2,\n",
        "                    bar.get_height()), ha='center', va='center',\n",
        "                   size=12, xytext=(0, 8),\n",
        "                   textcoords='offset points')"
      ],
      "metadata": {
        "colab": {
          "base_uri": "https://localhost:8080/",
          "height": 494
        },
        "id": "xG5Emy_zjV-0",
        "outputId": "cab7acac-7073-49ee-921f-25e6819f69d5"
      },
      "execution_count": 193,
      "outputs": [
        {
          "output_type": "display_data",
          "data": {
            "text/plain": [
              "<Figure size 648x432 with 1 Axes>"
            ],
            "image/png": "[encoded data removed]"
          },
          "metadata": {
            "needs_background": "light"
          }
        }
      ]
    },
    {
      "cell_type": "markdown",
      "source": [
        "#### <u>Inference:</u>Jan Suter is the most featured director. "
      ],
      "metadata": {
        "id": "Gxg2Okg7nRp8"
      }
    },
    {
      "cell_type": "markdown",
      "source": [
        "### Top 10 countries based on content count"
      ],
      "metadata": {
        "id": "eD3kt2GXn6id"
      }
    },
    {
      "cell_type": "code",
      "source": [
        "country_data = [] # Get all the occurences of countries in country feature in this list\n",
        "for string in netflix_data[~netflix_data['country'].isna()]['country'].tolist():\n",
        "  temp = string.split(',')\n",
        "  for country in temp:\n",
        "    country_data.append(country.lstrip())"
      ],
      "metadata": {
        "id": "8vAg5iLpKpKc"
      },
      "execution_count": 174,
      "outputs": []
    },
    {
      "cell_type": "code",
      "source": [
        "country_df = pd.Series(country_data) # Create a series using actor_data list"
      ],
      "metadata": {
        "id": "MdHQSor7KpKf"
      },
      "execution_count": 175,
      "outputs": []
    },
    {
      "cell_type": "code",
      "source": [
        "country_df.value_counts() # Get the value_counts of actors"
      ],
      "metadata": {
        "colab": {
          "base_uri": "https://localhost:8080/"
        },
        "outputId": "637687b8-c67a-4c94-f7c9-b748f787aa8b",
        "id": "LGlotVzIKpKg"
      },
      "execution_count": 176,
      "outputs": [
        {
          "output_type": "execute_result",
          "data": {
            "text/plain": [
              "United States     3297\n",
              "India              990\n",
              "United Kingdom     723\n",
              "Canada             412\n",
              "France             349\n",
              "                  ... \n",
              "Samoa                1\n",
              "Azerbaijan           1\n",
              "Bermuda              1\n",
              "Ecuador              1\n",
              "Montenegro           1\n",
              "Length: 118, dtype: int64"
            ]
          },
          "metadata": {},
          "execution_count": 176
        }
      ]
    },
    {
      "cell_type": "code",
      "source": [
        "plt.figure(figsize=(9,6))\n",
        "plots = country_df.value_counts()[:10].plot(kind='bar',animated=True)\n",
        "plt.xlabel('Country',fontsize=13)\n",
        "plt.xticks(rotation=50,color='Green',size=12)\n",
        "\n",
        "plt.ylabel('Number of Movies',fontsize=13)\n",
        "plt.title('Top 10 countries based on content count',fontsize=17)\n",
        "\n",
        "# Iterrating over the bars one-by-one\n",
        "for bar in plots.patches:\n",
        "    plots.annotate(format(bar.get_height()),\n",
        "                   (bar.get_x() + bar.get_width() / 2,\n",
        "                    bar.get_height()), ha='center', va='center',\n",
        "                   size=12, xytext=(0, 8),\n",
        "                   textcoords='offset points')"
      ],
      "metadata": {
        "colab": {
          "base_uri": "https://localhost:8080/",
          "height": 483
        },
        "id": "ch59642znY-E",
        "outputId": "0850a462-81ed-4296-ae5c-01d2e2a66714"
      },
      "execution_count": 177,
      "outputs": [
        {
          "output_type": "display_data",
          "data": {
            "text/plain": [
              "<Figure size 648x432 with 1 Axes>"
            ],
            "image/png": "[encoded data removed]"
          },
          "metadata": {
            "needs_background": "light"
          }
        }
      ]
    },
    {
      "cell_type": "markdown",
      "source": [
        "#### <u>Inference:</u> United States contributes most content to Netflix, second is India followed by United Kingdom. The 10 countries shown in the plot are the future market of Netflix."
      ],
      "metadata": {
        "id": "L6_Jg30Hoaut"
      }
    },
    {
      "cell_type": "markdown",
      "source": [
        "### Get movie duration distribution"
      ],
      "metadata": {
        "id": "hbFwsQ1nqJB0"
      }
    },
    {
      "cell_type": "code",
      "source": [
        "# Create a new dataframe for the analysis\n",
        "duration = netflix_data[['type','duration']].copy()\n",
        "duration.head()"
      ],
      "metadata": {
        "colab": {
          "base_uri": "https://localhost:8080/",
          "height": 206
        },
        "id": "21eUA2-Mqn9a",
        "outputId": "dcad4df2-8869-41b6-c229-545eb6756003"
      },
      "execution_count": 103,
      "outputs": [
        {
          "output_type": "execute_result",
          "data": {
            "text/plain": [
              "      type   duration\n",
              "0  TV Show  4 Seasons\n",
              "1    Movie     93 min\n",
              "2    Movie     78 min\n",
              "3    Movie     80 min\n",
              "4    Movie    123 min"
            ],
            "text/html": [
              "\n",
              "  <div id=\"df-8b5dab44-6482-417e-b033-cba5b5661a64\">\n",
              "    <div class=\"colab-df-container\">\n",
              "      <div>\n",
              "<style scoped>\n",
              "    .dataframe tbody tr th:only-of-type {\n",
              "        vertical-align: middle;\n",
              "    }\n",
              "\n",
              "    .dataframe tbody tr th {\n",
              "        vertical-align: top;\n",
              "    }\n",
              "\n",
              "    .dataframe thead th {\n",
              "        text-align: right;\n",
              "    }\n",
              "</style>\n",
              "<table border=\"1\" class=\"dataframe\">\n",
              "  <thead>\n",
              "    <tr style=\"text-align: right;\">\n",
              "      <th></th>\n",
              "      <th>type</th>\n",
              "      <th>duration</th>\n",
              "    </tr>\n",
              "  </thead>\n",
              "  <tbody>\n",
              "    <tr>\n",
              "      <th>0</th>\n",
              "      <td>TV Show</td>\n",
              "      <td>4 Seasons</td>\n",
              "    </tr>\n",
              "    <tr>\n",
              "      <th>1</th>\n",
              "      <td>Movie</td>\n",
              "      <td>93 min</td>\n",
              "    </tr>\n",
              "    <tr>\n",
              "      <th>2</th>\n",
              "      <td>Movie</td>\n",
              "      <td>78 min</td>\n",
              "    </tr>\n",
              "    <tr>\n",
              "      <th>3</th>\n",
              "      <td>Movie</td>\n",
              "      <td>80 min</td>\n",
              "    </tr>\n",
              "    <tr>\n",
              "      <th>4</th>\n",
              "      <td>Movie</td>\n",
              "      <td>123 min</td>\n",
              "    </tr>\n",
              "  </tbody>\n",
              "</table>\n",
              "</div>\n",
              "      <button class=\"colab-df-convert\" onclick=\"convertToInteractive('df-8b5dab44-6482-417e-b033-cba5b5661a64')\"\n",
              "              title=\"Convert this dataframe to an interactive table.\"\n",
              "              style=\"display:none;\">\n",
              "        \n",
              "  <svg xmlns=\"http://www.w3.org/2000/svg\" height=\"24px\"viewBox=\"0 0 24 24\"\n",
              "       width=\"24px\">\n",
              "    <path d=\"M0 0h24v24H0V0z\" fill=\"none\"/>\n",
              "    <path d=\"M18.56 5.44l.94 2.06.94-2.06 2.06-.94-2.06-.94-.94-2.06-.94 2.06-2.06.94zm-11 1L8.5 8.5l.94-2.06 2.06-.94-2.06-.94L8.5 2.5l-.94 2.06-2.06.94zm10 10l.94 2.06.94-2.06 2.06-.94-2.06-.94-.94-2.06-.94 2.06-2.06.94z\"/><path d=\"M17.41 7.96l-1.37-1.37c-.4-.4-.92-.59-1.43-.59-.52 0-1.04.2-1.43.59L10.3 9.45l-7.72 7.72c-.78.78-.78 2.05 0 2.83L4 21.41c.39.39.9.59 1.41.59.51 0 1.02-.2 1.41-.59l7.78-7.78 2.81-2.81c.8-.78.8-2.07 0-2.86zM5.41 20L4 18.59l7.72-7.72 1.47 1.35L5.41 20z\"/>\n",
              "  </svg>\n",
              "      </button>\n",
              "      \n",
              "  <style>\n",
              "    .colab-df-container {\n",
              "      display:flex;\n",
              "      flex-wrap:wrap;\n",
              "      gap: 12px;\n",
              "    }\n",
              "\n",
              "    .colab-df-convert {\n",
              "      background-color: #E8F0FE;\n",
              "      border: none;\n",
              "      border-radius: 50%;\n",
              "      cursor: pointer;\n",
              "      display: none;\n",
              "      fill: #1967D2;\n",
              "      height: 32px;\n",
              "      padding: 0 0 0 0;\n",
              "      width: 32px;\n",
              "    }\n",
              "\n",
              "    .colab-df-convert:hover {\n",
              "      background-color: #E2EBFA;\n",
              "      box-shadow: 0px 1px 2px rgba(60, 64, 67, 0.3), 0px 1px 3px 1px rgba(60, 64, 67, 0.15);\n",
              "      fill: #174EA6;\n",
              "    }\n",
              "\n",
              "    [theme=dark] .colab-df-convert {\n",
              "      background-color: #3B4455;\n",
              "      fill: #D2E3FC;\n",
              "    }\n",
              "\n",
              "    [theme=dark] .colab-df-convert:hover {\n",
              "      background-color: #434B5C;\n",
              "      box-shadow: 0px 1px 3px 1px rgba(0, 0, 0, 0.15);\n",
              "      filter: drop-shadow(0px 1px 2px rgba(0, 0, 0, 0.3));\n",
              "      fill: #FFFFFF;\n",
              "    }\n",
              "  </style>\n",
              "\n",
              "      <script>\n",
              "        const buttonEl =\n",
              "          document.querySelector('#df-8b5dab44-6482-417e-b033-cba5b5661a64 button.colab-df-convert');\n",
              "        buttonEl.style.display =\n",
              "          google.colab.kernel.accessAllowed ? 'block' : 'none';\n",
              "\n",
              "        async function convertToInteractive(key) {\n",
              "          const element = document.querySelector('#df-8b5dab44-6482-417e-b033-cba5b5661a64');\n",
              "          const dataTable =\n",
              "            await google.colab.kernel.invokeFunction('convertToInteractive',\n",
              "                                                     [key], {});\n",
              "          if (!dataTable) return;\n",
              "\n",
              "          const docLinkHtml = 'Like what you see? Visit the ' +\n",
              "            '<a target=\"_blank\" href=https://colab.research.google.com/notebooks/data_table.ipynb>data table notebook</a>'\n",
              "            + ' to learn more about interactive tables.';\n",
              "          element.innerHTML = '';\n",
              "          dataTable['output_type'] = 'display_data';\n",
              "          await google.colab.output.renderOutput(dataTable, element);\n",
              "          const docLink = document.createElement('div');\n",
              "          docLink.innerHTML = docLinkHtml;\n",
              "          element.appendChild(docLink);\n",
              "        }\n",
              "      </script>\n",
              "    </div>\n",
              "  </div>\n",
              "  "
            ]
          },
          "metadata": {},
          "execution_count": 103
        }
      ]
    },
    {
      "cell_type": "code",
      "source": [
        "duration['length']=duration['duration'].apply(lambda x: x.split(\" \")[0]) # Get length of seasons and movie duration"
      ],
      "metadata": {
        "id": "JLdskRm1rKi5"
      },
      "execution_count": 105,
      "outputs": []
    },
    {
      "cell_type": "code",
      "source": [
        "duration.head() # Check the change"
      ],
      "metadata": {
        "colab": {
          "base_uri": "https://localhost:8080/",
          "height": 206
        },
        "id": "jTL3qhN6sL7E",
        "outputId": "09397431-955f-43e8-cfb5-ee6fe1d1814f"
      },
      "execution_count": 106,
      "outputs": [
        {
          "output_type": "execute_result",
          "data": {
            "text/plain": [
              "      type   duration length\n",
              "0  TV Show  4 Seasons      4\n",
              "1    Movie     93 min     93\n",
              "2    Movie     78 min     78\n",
              "3    Movie     80 min     80\n",
              "4    Movie    123 min    123"
            ],
            "text/html": [
              "\n",
              "  <div id=\"df-d580be49-b375-4a50-bf2f-85f1cd22cbc5\">\n",
              "    <div class=\"colab-df-container\">\n",
              "      <div>\n",
              "<style scoped>\n",
              "    .dataframe tbody tr th:only-of-type {\n",
              "        vertical-align: middle;\n",
              "    }\n",
              "\n",
              "    .dataframe tbody tr th {\n",
              "        vertical-align: top;\n",
              "    }\n",
              "\n",
              "    .dataframe thead th {\n",
              "        text-align: right;\n",
              "    }\n",
              "</style>\n",
              "<table border=\"1\" class=\"dataframe\">\n",
              "  <thead>\n",
              "    <tr style=\"text-align: right;\">\n",
              "      <th></th>\n",
              "      <th>type</th>\n",
              "      <th>duration</th>\n",
              "      <th>length</th>\n",
              "    </tr>\n",
              "  </thead>\n",
              "  <tbody>\n",
              "    <tr>\n",
              "      <th>0</th>\n",
              "      <td>TV Show</td>\n",
              "      <td>4 Seasons</td>\n",
              "      <td>4</td>\n",
              "    </tr>\n",
              "    <tr>\n",
              "      <th>1</th>\n",
              "      <td>Movie</td>\n",
              "      <td>93 min</td>\n",
              "      <td>93</td>\n",
              "    </tr>\n",
              "    <tr>\n",
              "      <th>2</th>\n",
              "      <td>Movie</td>\n",
              "      <td>78 min</td>\n",
              "      <td>78</td>\n",
              "    </tr>\n",
              "    <tr>\n",
              "      <th>3</th>\n",
              "      <td>Movie</td>\n",
              "      <td>80 min</td>\n",
              "      <td>80</td>\n",
              "    </tr>\n",
              "    <tr>\n",
              "      <th>4</th>\n",
              "      <td>Movie</td>\n",
              "      <td>123 min</td>\n",
              "      <td>123</td>\n",
              "    </tr>\n",
              "  </tbody>\n",
              "</table>\n",
              "</div>\n",
              "      <button class=\"colab-df-convert\" onclick=\"convertToInteractive('df-d580be49-b375-4a50-bf2f-85f1cd22cbc5')\"\n",
              "              title=\"Convert this dataframe to an interactive table.\"\n",
              "              style=\"display:none;\">\n",
              "        \n",
              "  <svg xmlns=\"http://www.w3.org/2000/svg\" height=\"24px\"viewBox=\"0 0 24 24\"\n",
              "       width=\"24px\">\n",
              "    <path d=\"M0 0h24v24H0V0z\" fill=\"none\"/>\n",
              "    <path d=\"M18.56 5.44l.94 2.06.94-2.06 2.06-.94-2.06-.94-.94-2.06-.94 2.06-2.06.94zm-11 1L8.5 8.5l.94-2.06 2.06-.94-2.06-.94L8.5 2.5l-.94 2.06-2.06.94zm10 10l.94 2.06.94-2.06 2.06-.94-2.06-.94-.94-2.06-.94 2.06-2.06.94z\"/><path d=\"M17.41 7.96l-1.37-1.37c-.4-.4-.92-.59-1.43-.59-.52 0-1.04.2-1.43.59L10.3 9.45l-7.72 7.72c-.78.78-.78 2.05 0 2.83L4 21.41c.39.39.9.59 1.41.59.51 0 1.02-.2 1.41-.59l7.78-7.78 2.81-2.81c.8-.78.8-2.07 0-2.86zM5.41 20L4 18.59l7.72-7.72 1.47 1.35L5.41 20z\"/>\n",
              "  </svg>\n",
              "      </button>\n",
              "      \n",
              "  <style>\n",
              "    .colab-df-container {\n",
              "      display:flex;\n",
              "      flex-wrap:wrap;\n",
              "      gap: 12px;\n",
              "    }\n",
              "\n",
              "    .colab-df-convert {\n",
              "      background-color: #E8F0FE;\n",
              "      border: none;\n",
              "      border-radius: 50%;\n",
              "      cursor: pointer;\n",
              "      display: none;\n",
              "      fill: #1967D2;\n",
              "      height: 32px;\n",
              "      padding: 0 0 0 0;\n",
              "      width: 32px;\n",
              "    }\n",
              "\n",
              "    .colab-df-convert:hover {\n",
              "      background-color: #E2EBFA;\n",
              "      box-shadow: 0px 1px 2px rgba(60, 64, 67, 0.3), 0px 1px 3px 1px rgba(60, 64, 67, 0.15);\n",
              "      fill: #174EA6;\n",
              "    }\n",
              "\n",
              "    [theme=dark] .colab-df-convert {\n",
              "      background-color: #3B4455;\n",
              "      fill: #D2E3FC;\n",
              "    }\n",
              "\n",
              "    [theme=dark] .colab-df-convert:hover {\n",
              "      background-color: #434B5C;\n",
              "      box-shadow: 0px 1px 3px 1px rgba(0, 0, 0, 0.15);\n",
              "      filter: drop-shadow(0px 1px 2px rgba(0, 0, 0, 0.3));\n",
              "      fill: #FFFFFF;\n",
              "    }\n",
              "  </style>\n",
              "\n",
              "      <script>\n",
              "        const buttonEl =\n",
              "          document.querySelector('#df-d580be49-b375-4a50-bf2f-85f1cd22cbc5 button.colab-df-convert');\n",
              "        buttonEl.style.display =\n",
              "          google.colab.kernel.accessAllowed ? 'block' : 'none';\n",
              "\n",
              "        async function convertToInteractive(key) {\n",
              "          const element = document.querySelector('#df-d580be49-b375-4a50-bf2f-85f1cd22cbc5');\n",
              "          const dataTable =\n",
              "            await google.colab.kernel.invokeFunction('convertToInteractive',\n",
              "                                                     [key], {});\n",
              "          if (!dataTable) return;\n",
              "\n",
              "          const docLinkHtml = 'Like what you see? Visit the ' +\n",
              "            '<a target=\"_blank\" href=https://colab.research.google.com/notebooks/data_table.ipynb>data table notebook</a>'\n",
              "            + ' to learn more about interactive tables.';\n",
              "          element.innerHTML = '';\n",
              "          dataTable['output_type'] = 'display_data';\n",
              "          await google.colab.output.renderOutput(dataTable, element);\n",
              "          const docLink = document.createElement('div');\n",
              "          docLink.innerHTML = docLinkHtml;\n",
              "          element.appendChild(docLink);\n",
              "        }\n",
              "      </script>\n",
              "    </div>\n",
              "  </div>\n",
              "  "
            ]
          },
          "metadata": {},
          "execution_count": 106
        }
      ]
    },
    {
      "cell_type": "code",
      "source": [
        "plt.figure(figsize=(16,6))\n",
        "plt.subplot(1,2,1)\n",
        "sns.distplot(duration[duration['type']=='Movie']['length'],hist=True,color='purple')\n",
        "plt.ylabel('',fontsize=13)\n",
        "plt.xlabel('Movie duration',fontsize=13)\n",
        "plt.title('Movie Length Distribution',fontsize=17)\n",
        "\n",
        "plt.subplot(1,2,2)\n",
        "sns.distplot(duration[duration['type']=='TV Show']['length'],hist=True,color='red')\n",
        "plt.ylabel('',fontsize=13)\n",
        "plt.xlabel('Number of seasons',fontsize=13)\n",
        "plt.title('TV show seasons Distribution',fontsize=17)"
      ],
      "metadata": {
        "colab": {
          "base_uri": "https://localhost:8080/",
          "height": 429
        },
        "id": "pyY4oZJvqPYe",
        "outputId": "c34b61e2-ed5b-4bb2-f554-cc7e05948480"
      },
      "execution_count": 112,
      "outputs": [
        {
          "output_type": "execute_result",
          "data": {
            "text/plain": [
              "Text(0.5, 1.0, 'TV show seasons Distribution')"
            ]
          },
          "metadata": {},
          "execution_count": 112
        },
        {
          "output_type": "display_data",
          "data": {
            "text/plain": [
              "<Figure size 1152x432 with 2 Axes>"
            ],
            "image/png": "[encoded data removed]"
          },
          "metadata": {
            "needs_background": "light"
          }
        }
      ]
    },
    {
      "cell_type": "markdown",
      "source": [
        "#### <u>Inference</u>: Most movies are of length ~90 mins, there are some rare movies of length ~300 mins i.e 5 hours. Most TV Shows have only one season, there are TV shows having more than 10 seasons. \n"
      ],
      "metadata": {
        "id": "5a65JzD_tBem"
      }
    },
    {
      "cell_type": "markdown",
      "source": [
        "### Get rating distribution"
      ],
      "metadata": {
        "id": "XiXCCvnSvn6_"
      }
    },
    {
      "cell_type": "code",
      "source": [
        "plt.figure(figsize=(9,6))\n",
        "plots = netflix_data['rating'].value_counts()[:10].plot(kind='bar',animated=True)\n",
        "plt.xlabel('Rated category',fontsize=13)\n",
        "plt.xticks(rotation=50,color='blue',size=12)\n",
        "\n",
        "plt.ylabel('Number of Movies',fontsize=13)\n",
        "plt.title('Count of Rated category movies avilable on Netflix',fontsize=17)\n",
        "\n",
        "# Iterrating over the bars one-by-one\n",
        "for bar in plots.patches:\n",
        "    plots.annotate(format(bar.get_height()),\n",
        "                   (bar.get_x() + bar.get_width() / 2,\n",
        "                    bar.get_height()), ha='center', va='center',\n",
        "                   size=12, xytext=(0, 8),\n",
        "                   textcoords='offset points')"
      ],
      "metadata": {
        "colab": {
          "base_uri": "https://localhost:8080/",
          "height": 438
        },
        "id": "zN8jx_DIvssU",
        "outputId": "5b00998e-47c9-497e-8069-164589734614"
      },
      "execution_count": 113,
      "outputs": [
        {
          "output_type": "display_data",
          "data": {
            "text/plain": [
              "<Figure size 648x432 with 1 Axes>"
            ],
            "image/png": "[encoded data removed]"
          },
          "metadata": {
            "needs_background": "light"
          }
        }
      ]
    },
    {
      "cell_type": "markdown",
      "source": [
        "#### <u>Inference</u>: Most number of movies are for age 17 and above, there are very few movies which are not rated. "
      ],
      "metadata": {
        "id": "JoMqicb1wrGh"
      }
    },
    {
      "cell_type": "markdown",
      "source": [
        "### Most active actor"
      ],
      "metadata": {
        "id": "y7H1hYS5ysqM"
      }
    },
    {
      "cell_type": "code",
      "source": [
        "netflix_data.info()"
      ],
      "metadata": {
        "colab": {
          "base_uri": "https://localhost:8080/"
        },
        "id": "LhsrNH7Oy_GF",
        "outputId": "dace820d-ecef-4109-8b3d-d1873b1db0d3"
      },
      "execution_count": 117,
      "outputs": [
        {
          "output_type": "stream",
          "name": "stdout",
          "text": [
            "<class 'pandas.core.frame.DataFrame'>\n",
            "RangeIndex: 7787 entries, 0 to 7786\n",
            "Data columns (total 12 columns):\n",
            " #   Column        Non-Null Count  Dtype \n",
            "---  ------        --------------  ----- \n",
            " 0   show_id       7787 non-null   object\n",
            " 1   type          7787 non-null   object\n",
            " 2   title         7787 non-null   object\n",
            " 3   director      5398 non-null   object\n",
            " 4   cast          7069 non-null   object\n",
            " 5   country       7280 non-null   object\n",
            " 6   date_added    7777 non-null   object\n",
            " 7   release_year  7787 non-null   int64 \n",
            " 8   rating        7780 non-null   object\n",
            " 9   duration      7787 non-null   object\n",
            " 10  listed_in     7787 non-null   object\n",
            " 11  description   7787 non-null   object\n",
            "dtypes: int64(1), object(11)\n",
            "memory usage: 730.2+ KB\n"
          ]
        }
      ]
    },
    {
      "cell_type": "code",
      "source": [
        "actor_data = [] # Get all the occurences of actors in cast feature in this list\n",
        "for string in netflix_data[~netflix_data['cast'].isna()]['cast'].tolist():\n",
        "  temp = string.split(',')\n",
        "  for actor in temp:\n",
        "    actor_data.append(actor.strip())"
      ],
      "metadata": {
        "id": "n6yhMVq43mMu"
      },
      "execution_count": 182,
      "outputs": []
    },
    {
      "cell_type": "code",
      "source": [
        "actor_df = pd.Series(actor_data) # Create a series using actor_data list"
      ],
      "metadata": {
        "id": "vGuix6nRz87L"
      },
      "execution_count": 183,
      "outputs": []
    },
    {
      "cell_type": "code",
      "source": [
        "actor_df.value_counts() # Get the value_counts of actors"
      ],
      "metadata": {
        "colab": {
          "base_uri": "https://localhost:8080/"
        },
        "id": "3Wuz9rJO0LBl",
        "outputId": "fd0300e9-034c-4bc4-9a04-0dc12806cdf4"
      },
      "execution_count": 184,
      "outputs": [
        {
          "output_type": "execute_result",
          "data": {
            "text/plain": [
              "Anupam Kher         42\n",
              "Shah Rukh Khan      35\n",
              "Naseeruddin Shah    30\n",
              "Om Puri             30\n",
              "Akshay Kumar        29\n",
              "                    ..\n",
              "Archie Alemania      1\n",
              "Demore Barnes        1\n",
              "Marty Adams          1\n",
              "Nicole Boivin        1\n",
              "Rachel Khoo          1\n",
              "Length: 32881, dtype: int64"
            ]
          },
          "metadata": {},
          "execution_count": 184
        }
      ]
    },
    {
      "cell_type": "code",
      "source": [
        "plt.figure(figsize=(9,6))\n",
        "plots = actor_df.value_counts()[:10].plot(kind='bar')\n",
        "plt.xlabel('Actors',fontsize=13)\n",
        "plt.xticks(rotation=50,color='brown',size=12)\n",
        "\n",
        "plt.ylabel('Number of Movies',fontsize=13)\n",
        "plt.title('Top 10 actors based on number of movies avilable on Netflix',fontsize=17)\n",
        "\n",
        "# Iterrating over the bars one-by-one\n",
        "for bar in plots.patches:\n",
        "    plots.annotate(format(bar.get_height()),\n",
        "                   (bar.get_x() + bar.get_width() / 2,\n",
        "                    bar.get_height()), ha='center', va='center',\n",
        "                   size=12, xytext=(0, 8),\n",
        "                   textcoords='offset points')"
      ],
      "metadata": {
        "colab": {
          "base_uri": "https://localhost:8080/",
          "height": 497
        },
        "id": "r7IoA5O7xpKR",
        "outputId": "52731282-fd31-47d1-b56a-c36eb714cc6c"
      },
      "execution_count": 185,
      "outputs": [
        {
          "output_type": "display_data",
          "data": {
            "text/plain": [
              "<Figure size 648x432 with 1 Axes>"
            ],
            "image/png": "[encoded data removed]"
          },
          "metadata": {
            "needs_background": "light"
          }
        }
      ]
    },
    {
      "cell_type": "markdown",
      "source": [
        "#### <u>Inference</u>: Most featured actor is Anupam Kher. Out of top 10 actors, 8 are Indians. It shows the impact of Indian actors on the World cinema"
      ],
      "metadata": {
        "id": "VAnVC9gyCD2C"
      }
    },
    {
      "cell_type": "markdown",
      "source": [
        "### Get top 10 genres"
      ],
      "metadata": {
        "id": "zawcu51v7rF0"
      }
    },
    {
      "cell_type": "code",
      "source": [
        "genre_data = [] # Get all the occurences of genres in listed_in feature in this list\n",
        "for string in netflix_data['listed_in'].tolist():\n",
        "  temp = string.split(',')\n",
        "  for genre in temp:\n",
        "    genre_data.append(genre.strip()) # stripping the genre of the leading whitespaces"
      ],
      "metadata": {
        "id": "odAs5XxA7T4k"
      },
      "execution_count": 186,
      "outputs": []
    },
    {
      "cell_type": "code",
      "source": [
        "genre_df = pd.Series(genre_data) # Create a series using actor_data list"
      ],
      "metadata": {
        "id": "Fb3ewq3O7z-p"
      },
      "execution_count": 187,
      "outputs": []
    },
    {
      "cell_type": "code",
      "source": [
        "genre_df.value_counts()[:15]"
      ],
      "metadata": {
        "colab": {
          "base_uri": "https://localhost:8080/"
        },
        "id": "n8zsGu1D7_Hv",
        "outputId": "d3c93c2e-38b9-44f2-b062-5af72bcac3af"
      },
      "execution_count": 188,
      "outputs": [
        {
          "output_type": "execute_result",
          "data": {
            "text/plain": [
              "International Movies        2437\n",
              "Dramas                      2106\n",
              "Comedies                    1471\n",
              "International TV Shows      1199\n",
              "Documentaries                786\n",
              "Action & Adventure           721\n",
              "TV Dramas                    704\n",
              "Independent Movies           673\n",
              "Children & Family Movies     532\n",
              "Romantic Movies              531\n",
              "TV Comedies                  525\n",
              "Thrillers                    491\n",
              "Crime TV Shows               427\n",
              "Kids' TV                     414\n",
              "Docuseries                   353\n",
              "dtype: int64"
            ]
          },
          "metadata": {},
          "execution_count": 188
        }
      ]
    },
    {
      "cell_type": "code",
      "source": [
        "plt.figure(figsize=(9,6))\n",
        "plots = genre_df.value_counts()[:15].plot(kind='bar')\n",
        "plt.xlabel('Genre',fontsize=13)\n",
        "plt.xticks(rotation=80,color='blue',size=12)\n",
        "\n",
        "plt.ylabel('Number of Movies',fontsize=13)\n",
        "plt.title('Top 10 genres based on number of movies avilable on Netflix',fontsize=17)\n",
        "\n",
        "# Iterrating over the bars one-by-one\n",
        "for bar in plots.patches:\n",
        "    plots.annotate(format(bar.get_height()),\n",
        "                   (bar.get_x() + bar.get_width() / 2,\n",
        "                    bar.get_height()), ha='center', va='center',\n",
        "                   size=12, xytext=(0, 8),\n",
        "                   textcoords='offset points')"
      ],
      "metadata": {
        "colab": {
          "base_uri": "https://localhost:8080/",
          "height": 553
        },
        "id": "iAs_WQpP9fXq",
        "outputId": "0f3f363c-f0db-4bab-c5d1-2fe9fb96aea9"
      },
      "execution_count": 189,
      "outputs": [
        {
          "output_type": "display_data",
          "data": {
            "text/plain": [
              "<Figure size 648x432 with 1 Axes>"
            ],
            "image/png": "[encoded data removed]"
          },
          "metadata": {
            "needs_background": "light"
          }
        }
      ]
    },
    {
      "cell_type": "markdown",
      "source": [
        "#### <u>Inference</u>: International movies is the top genre followed by Dramas and Comedies."
      ],
      "metadata": {
        "id": "vxatQr3uCY4Z"
      }
    },
    {
      "cell_type": "markdown",
      "source": [
        "### Type - Country relationship, Understanding what type (whether movie or tv show) is available in different countries "
      ],
      "metadata": {
        "id": "-WuLLz9wCYul"
      }
    },
    {
      "cell_type": "code",
      "source": [
        "netflix_data['country'].unique()"
      ],
      "metadata": {
        "colab": {
          "base_uri": "https://localhost:8080/"
        },
        "id": "KMozdvBbKO5U",
        "outputId": "81b5977f-288d-426a-96b2-a1617f0b4721"
      },
      "execution_count": 160,
      "outputs": [
        {
          "output_type": "execute_result",
          "data": {
            "text/plain": [
              "array(['Brazil', 'Mexico', 'Singapore', 'United States', 'Turkey',\n",
              "       'Egypt', 'India', 'Poland, United States', 'Thailand', 'Nigeria',\n",
              "       nan, 'Norway, Iceland, United States', 'United Kingdom', 'Japan',\n",
              "       'South Korea', 'Italy', 'Canada', 'Indonesia', 'Romania', 'Spain',\n",
              "       'Iceland', 'South Africa, Nigeria', 'France',\n",
              "       'United States, South Africa', 'Portugal, Spain',\n",
              "       'Hong Kong, China, Singapore', 'United States, Germany',\n",
              "       'South Africa, China, United States', 'Argentina',\n",
              "       'United States, France, Serbia', 'Germany',\n",
              "       'Denmark, France, Poland', 'Poland', 'Kenya',\n",
              "       'New Zealand, United Kingdom', 'Pakistan', 'Australia',\n",
              "       'Australia, United States', 'Mexico, United States',\n",
              "       'United States, China', 'China, Hong Kong', 'Taiwan',\n",
              "       'United States, United Kingdom', 'France, South Korea, Japan',\n",
              "       'United States, Canada', 'United Kingdom, United States',\n",
              "       'Netherlands, Denmark, South Africa', 'Canada, United States',\n",
              "       'Denmark', 'Hong Kong', 'France, Netherlands, Singapore', 'China',\n",
              "       'Philippines', 'United Kingdom, Spain, United States',\n",
              "       'United Arab Emirates, United States', 'Netherlands',\n",
              "       'United Kingdom, Hong Kong', 'Iran, France',\n",
              "       'United States, United Kingdom, France',\n",
              "       'United Kingdom, France, Belgium, United States, China',\n",
              "       'Argentina, Brazil, France, Poland, Germany, Denmark',\n",
              "       'Israel, United States', 'United States, Mexico',\n",
              "       'Uruguay, Argentina, Spain', 'Singapore, France',\n",
              "       'United Kingdom, United States, France, Germany',\n",
              "       'Turkey, United States', 'Bulgaria, United States',\n",
              "       'Australia, France', 'Hong Kong, Iceland, United States',\n",
              "       'United Arab Emirates', 'United States, Chile',\n",
              "       'Germany, France, Russia', 'Mauritius, South Africa',\n",
              "       'United States, Japan', 'Lebanon', 'United States, Bulgaria',\n",
              "       'Colombia', 'Uruguay, Argentina', 'Egypt, Algeria',\n",
              "       'France, Egypt', 'Uruguay', 'Soviet Union, India',\n",
              "       'Sweden, United States', 'South Africa', 'Malaysia',\n",
              "       'Ireland, United Kingdom, United States', 'Spain, Italy',\n",
              "       'United Kingdom, France, Germany',\n",
              "       'United States, Germany, Canada', 'United States, India',\n",
              "       'Japan, United States', 'Denmark, United States',\n",
              "       'South Africa, United States', 'Canada, Luxembourg',\n",
              "       'Serbia, United States', 'Canada, Nigeria',\n",
              "       'Iceland, Sweden, Belgium', 'Ireland, Canada',\n",
              "       'United States, Italy', 'Finland', 'India, Germany',\n",
              "       'China, Spain, South Korea, United States', 'Spain, Belgium',\n",
              "       'United Kingdom, Canada, United States, Germany',\n",
              "       'Brazil, Netherlands, United States, Colombia, Austria, Germany',\n",
              "       'France, Canada, Belgium',\n",
              "       'India, United Kingdom, China, Canada, Japan, South Korea, United States',\n",
              "       'France, Belgium', 'Indonesia, South Korea, Singapore', 'Norway',\n",
              "       'Peru', 'France, Senegal, Belgium', 'Canada, France', 'Chile',\n",
              "       'Romania, France, Switzerland, Germany',\n",
              "       'Bulgaria, United States, Spain, Canada', 'Sweden, Netherlands',\n",
              "       'Ghana', 'France, United States, Mexico',\n",
              "       'Australia, United Kingdom, United Arab Emirates, Canada',\n",
              "       'Singapore, United States', 'Japan, Canada, United States',\n",
              "       'Saudi Arabia',\n",
              "       'Australia, Armenia, Japan, Jordan, Mexico, Mongolia, New Zealand, Philippines, South Africa, Sweden, United States, Uruguay',\n",
              "       'United States, France', 'Norway, Denmark, Netherlands, Sweden',\n",
              "       'Namibia', 'Mexico, Finland', 'United States, Australia', 'Russia',\n",
              "       'Australia, Canada', 'United Kingdom, Ireland', 'Belgium, France',\n",
              "       'New Zealand', 'Uruguay, Spain, Mexico', 'South Korea, China',\n",
              "       'United States, Canada, Indonesia, United Kingdom, China, Singapore',\n",
              "       'India, Iran', 'United States, France, Japan',\n",
              "       'United Kingdom, France', 'Turkey, India', 'Philippines, Qatar',\n",
              "       'Vietnam', 'Ireland, Luxembourg, Belgium',\n",
              "       'Saudi Arabia, Syria, Egypt, Lebanon, Kuwait',\n",
              "       'Russia, United States', 'United Kingdom, Russia, United States',\n",
              "       'Argentina, Spain', 'Germany, Jordan, Netherlands',\n",
              "       'Hong Kong, China', 'Argentina, United States',\n",
              "       'France, Belgium, Spain', 'Germany, United States',\n",
              "       'Denmark, Sweden, Israel, United States',\n",
              "       'Ireland, United Kingdom', 'United States, Iceland',\n",
              "       'United Arab Emirates, United Kingdom, India', 'Sweden',\n",
              "       'Norway, Germany, Sweden', 'Finland, France', 'Denmark, Spain',\n",
              "       'United Kingdom, Russia',\n",
              "       'United States, United Kingdom, Australia',\n",
              "       'India, United Kingdom', 'United States, Canada, Ireland',\n",
              "       'Canada, United Kingdom',\n",
              "       'United States, Israel, Italy, South Africa',\n",
              "       'India, United States', 'United Kingdom, China',\n",
              "       'Indonesia, Singapore', 'Netherlands, Denmark, France, Germany',\n",
              "       'South Korea, Japan',\n",
              "       'Philippines, Canada, United Kingdom, United States',\n",
              "       'France, Malta, United States', 'Kuwait',\n",
              "       'United Kingdom, Pakistan', 'Ireland', 'France, New Zealand',\n",
              "       'United Kingdom, United States, Australia',\n",
              "       'United Kingdom, Czech Republic, United States, Germany, Bahamas',\n",
              "       'United States, Australia, China',\n",
              "       'China, Germany, India, United States', 'Germany, Sri Lanka',\n",
              "       'United States, Sweden', 'Canada, United States, Cayman Islands',\n",
              "       'India, France', 'United Kingdom, Canada',\n",
              "       'United States, India, Bangladesh',\n",
              "       'United States, Canada, France',\n",
              "       'Taiwan, China, France, United States', 'Brazil, France, Germany',\n",
              "       'United States,', 'Turkey, France, Germany, Poland',\n",
              "       'Australia, New Zealand, United States',\n",
              "       'Germany, United States, Hong Kong, Singapore',\n",
              "       'France, Germany, Switzerland', 'Mexico, Argentina',\n",
              "       'Italy, United States, Argentina',\n",
              "       'Germany, France, Luxembourg, United Kingdom, United States',\n",
              "       'Canada, United States, United Kingdom',\n",
              "       'United Kingdom, Canada, Italy', 'Czech Republic, France',\n",
              "       'Zimbabwe', 'United Kingdom, France, Germany, Spain',\n",
              "       'Taiwan, Hong Kong, United States, China', 'China, United States',\n",
              "       'Canada, Brazil', 'United Kingdom, Australia', 'Hungary',\n",
              "       'Germany, Australia', 'United Kingdom, Poland, United States',\n",
              "       'Bulgaria', 'Philippines, United States', 'Finland, Germany',\n",
              "       'United States, Thailand',\n",
              "       'Spain, Belgium, Switzerland, United States, China, United Kingdom',\n",
              "       'Denmark, Zimbabwe', 'United Kingdom, South Africa',\n",
              "       'Finland, Sweden, Norway, Latvia, Germany',\n",
              "       'United Kingdom, India',\n",
              "       'South Africa, United States, New Zealand, Canada',\n",
              "       'France, Qatar', 'France, Algeria',\n",
              "       'United States, Italy, United Kingdom, Liechtenstein',\n",
              "       'Denmark, France, Belgium, Italy, Netherlands, United States, United Kingdom',\n",
              "       'United States, Australia, Mexico',\n",
              "       'United Kingdom, Czech Republic, Germany, United States',\n",
              "       'Russia, Poland, Serbia', 'France, China, Japan, United States',\n",
              "       'United States, South Korea, China', 'Germany, Belgium',\n",
              "       'Chile, Argentina', 'China, United States, United Kingdom',\n",
              "       'Pakistan, Norway, United States',\n",
              "       'United Kingdom, Japan, United States', 'Philippines, Singapore',\n",
              "       'United States, Canada, Belgium, United Kingdom', 'Venezuela',\n",
              "       'Argentina, Uruguay, Serbia', 'United States, Mexico, Colombia',\n",
              "       'Colombia, Peru, United Kingdom', 'Brazil, United States',\n",
              "       'Czech Republic, United States',\n",
              "       'Canada, France, Italy, Morocco, United States',\n",
              "       'Canada, Spain, France', 'Hong Kong, United States',\n",
              "       'France, Canada, China, Cambodia', 'United States, Indonesia',\n",
              "       'Spain, France', 'Spain, Mexico, France', 'Spain, France, Italy',\n",
              "       'Spain, France, United States', 'United States, France, Canada',\n",
              "       'Israel', 'Italy, France', 'United Kingdom, Canada, United States',\n",
              "       'Cambodia, United States', 'China, Japan',\n",
              "       'United Arab Emirates, United States, United Kingdom',\n",
              "       'Argentina, Italy', 'United Kingdom, Israel, Russia',\n",
              "       'Italy, Switzerland, Albania, Poland', 'Spain, Cuba',\n",
              "       'United States, Brazil', 'United States, France, Mexico',\n",
              "       'United States, Nicaragua', 'Austria, Germany',\n",
              "       'United Arab Emirates, Jordan, Lebanon',\n",
              "       'France, United Kingdom, United States',\n",
              "       'United Kingdom, United States, Spain, Germany, Greece, Canada',\n",
              "       'France, Belgium, Luxembourg, Cambodia,', 'Italy, Turkey',\n",
              "       'Brazil, France', 'India, Turkey', 'Kenya, United States',\n",
              "       'United States, South Korea', 'South Korea, United States',\n",
              "       'Italy, Canada, France', 'Thailand, United States',\n",
              "       'United Kingdom, Denmark, Canada, Croatia', 'Netherlands, Belgium',\n",
              "       'United Kingdom, Canada, United States, Cayman Islands',\n",
              "       'Italy, Germany', 'United States, France, United Kingdom, Japan',\n",
              "       'United States, United Kingdom, Denmark, Sweden',\n",
              "       'United States, United Kingdom, Italy',\n",
              "       'United States, France, Canada, Spain', 'Uruguay, Guatemala',\n",
              "       'Germany, Australia, France, China',\n",
              "       'United States, United Kingdom, Japan',\n",
              "       'United States, United Kingdom, Canada',\n",
              "       'Italy, Switzerland, France, Germany',\n",
              "       'Russia, United States, China', 'United States, Canada, Germany',\n",
              "       'United States, Czech Republic', 'Ireland, United States',\n",
              "       'United States, United Arab Emirates',\n",
              "       'France, Australia, Germany', 'Hong Kong, China, United States',\n",
              "       'Lebanon, United Arab Emirates, France, Switzerland, Germany',\n",
              "       'United States, South Korea, Japan', 'Romania, United States',\n",
              "       'West Germany', 'United States, Ireland', 'Chile, Italy',\n",
              "       'Ireland, United Kingdom, Italy, United States', 'Belgium',\n",
              "       'Poland,', 'Slovenia, Croatia, Germany, Czech Republic, Qatar',\n",
              "       'Canada, United Kingdom, Netherlands',\n",
              "       'United Kingdom, United States, France',\n",
              "       'Indonesia, United Kingdom', 'United States, Spain, Germany',\n",
              "       'India, Japan', 'Switzerland, France, Belgium, United States',\n",
              "       'China, South Korea, United States',\n",
              "       'United Kingdom, France, Belgium',\n",
              "       'Canada, Ireland, United States',\n",
              "       'United Kingdom, United States, Dominican Republic',\n",
              "       'United States, Senegal', 'Germany, United Kingdom, United States',\n",
              "       'United States, Canada, United Kingdom',\n",
              "       'Canada, United States, France', 'United Kingdom, Germany, Canada',\n",
              "       'Argentina, France', 'South Africa, Germany, Netherlands, France',\n",
              "       'Canada, United States, United Kingdom, France, Luxembourg',\n",
              "       'Finland, Germany, Belgium',\n",
              "       'United States, United Kingdom, Germany', 'Taiwan, China',\n",
              "       'Cambodia', 'Spain, Portugal', 'Ireland, United States, France',\n",
              "       'Jordan', 'Austria', 'Germany, United States, Canada',\n",
              "       'United Kingdom, Germany, Canada, United States',\n",
              "       'United States, France, Canada, Lebanon, Qatar',\n",
              "       'Indonesia, Netherlands',\n",
              "       'Netherlands, Belgium, United Kingdom, United States',\n",
              "       'China, United States, Australia',\n",
              "       'France, Belgium, China, United States', 'Spain, United Kingdom',\n",
              "       'United States, Chile, Israel', 'Bangladesh',\n",
              "       'United Kingdom, Norway, Denmark, Germany, Sweden',\n",
              "       'United States, Japan, Canada', 'Norway, Denmark, Sweden',\n",
              "       'China, India, Nepal', 'United States, Argentina',\n",
              "       'Mexico, United States, Spain, Colombia',\n",
              "       'Colombia, Mexico, United States',\n",
              "       'United Kingdom, Belgium, Sweden', 'Nigeria, United Kingdom',\n",
              "       'United Kingdom, South Korea', 'United States, Taiwan',\n",
              "       'Netherlands, Belgium, Germany, Jordan', 'France, Canada',\n",
              "       'United Kingdom, France, United States',\n",
              "       'Denmark, Singapore, Canada, United States', 'Denmark, China',\n",
              "       'Malaysia, Singapore, Hong Kong', 'Norway, United States',\n",
              "       'United States, Philippines', 'United States, Greece, Brazil',\n",
              "       'France, United States', 'South Korea, France',\n",
              "       'United States, Australia, Samoa, United Kingdom',\n",
              "       'Canada, South Africa', 'United Kingdom, Italy',\n",
              "       'Germany, United Kingdom', 'China, United Kingdom',\n",
              "       'Argentina, Chile, Peru', 'United States, Russia',\n",
              "       'Uruguay, Germany', 'Turkey, Azerbaijan',\n",
              "       'United States, China, Hong Kong',\n",
              "       'Canada, Germany, France, United States',\n",
              "       'Argentina, United States, Mexico',\n",
              "       'France, United Kingdom, India', 'China, Taiwan',\n",
              "       'Italy, United Kingdom, France', 'Poland, West Germany',\n",
              "       'Germany, United States, Sweden', 'Canada, Spain',\n",
              "       'United Kingdom, France, Belgium, United States', 'France, Japan',\n",
              "       'Netherlands, Germany, Italy, Canada', 'United States, Cambodia',\n",
              "       'United States, Greece', 'United States, China, Colombia',\n",
              "       'United States, Spain, Italy',\n",
              "       'Norway, United Kingdom, France, Ireland',\n",
              "       'United States, Bermuda, Ecuador', 'United Kingdom, Poland',\n",
              "       'China, Canada, United States', 'United States, Spain',\n",
              "       'India, Mexico', 'United Kingdom, West Germany',\n",
              "       'Pakistan, United States', 'Israel, Sweden, Germany, Netherlands',\n",
              "       'Chile, United States, France', 'France, Morocco',\n",
              "       'United Kingdom, Germany', 'Georgia, Germany, France',\n",
              "       'Switzerland, France', 'Turkey, South Korea', 'Italy, India',\n",
              "       'United States, Botswana', 'United States, Colombia, Mexico',\n",
              "       'Chile, Argentina, France, Spain, United States',\n",
              "       'Puerto Rico, United States, Colombia', 'United States, Nigeria',\n",
              "       'Germany, United States, France',\n",
              "       'Spain, Germany, Denmark, United States',\n",
              "       'United Kingdom, United States, Japan',\n",
              "       'Netherlands, United States',\n",
              "       'United States, India, South Korea, China',\n",
              "       'Denmark, Germany, Belgium, United Kingdom, France',\n",
              "       'Denmark, Germany, Belgium, United Kingdom, France, Sweden',\n",
              "       'France, Switzerland, Spain, United States, United Arab Emirates',\n",
              "       'Norway, Sweden', 'United States, Ireland, United Kingdom, India',\n",
              "       'United Kingdom, Singapore', 'Spain, Germany',\n",
              "       'Germany, Czech Republic',\n",
              "       'Denmark, Brazil, France, Portugal, Sweden',\n",
              "       'Brazil, India, China, United States', 'India, Germany, Austria',\n",
              "       'Italy, United States', 'Denmark, France, United States, Sweden',\n",
              "       'Australia, Iraq', 'China, Morocco, Hong Kong', 'Spain, Colombia',\n",
              "       'Australia, United Arab Emirates',\n",
              "       'Canada, United States, Germany', 'France, Belgium, Italy',\n",
              "       'United Kingdom, Thailand', 'Venezuela, Colombia',\n",
              "       'France, Luxembourg, Canada', 'India, Nepal', 'Mexico, Spain',\n",
              "       'Colombia, United States', 'Colombia, Mexico',\n",
              "       'France, Germany, Czech Republic, Belgium',\n",
              "       'Germany, China, United Kingdom', 'Canada, Hungary, United States',\n",
              "       'Pakistan, United Arab Emirates', 'France, United Kingdom',\n",
              "       'Spain, United Kingdom, United States', 'United Kingdom, Kenya',\n",
              "       'United States, Norway, Canada', 'Canada, United States, Ireland',\n",
              "       'Switzerland, Vatican City, Italy, Germany, France',\n",
              "       'Portugal, France, Poland, United States',\n",
              "       'France, Japan, United States', 'United States, New Zealand',\n",
              "       'United States, New Zealand, Japan',\n",
              "       'United States, Netherlands, Japan, France', 'India, Switzerland',\n",
              "       'Canada, India', 'Canada, Japan, United States',\n",
              "       'United States, Morocco', 'United States, Mexico, Spain, Malta',\n",
              "       'Norway, Denmark', 'South Korea, Canada, United States, China',\n",
              "       'Singapore, Japan, France',\n",
              "       'Canada, Mexico, Germany, South Africa',\n",
              "       'United Kingdom, United States, Canada',\n",
              "       'Germany, France, United States, Canada, United Kingdom',\n",
              "       'Peru, Germany, Norway', 'Singapore, Malaysia',\n",
              "       'United States, Uruguay', 'India, Canada',\n",
              "       'Ireland, Canada, United Kingdom, United States',\n",
              "       'United States, Germany, Australia', 'Senegal',\n",
              "       'Israel, Germany, France', 'Australia, France, Ireland',\n",
              "       'South Africa, Angola', 'Austria, Czech Republic',\n",
              "       'Australia, India', 'United States, United Kingdom, Canada, Japan',\n",
              "       'Sweden, United Kingdom, Finland', 'Hong Kong, Taiwan',\n",
              "       'United States, United Kingdom, Spain, South Korea',\n",
              "       'South Korea, China, United States', 'Guatemala', 'Ukraine',\n",
              "       'United States, United Kingdom, Canada, China',\n",
              "       'Italy, South Africa, West Germany, Australia, United States',\n",
              "       'United Kingdom, Finland, Germany',\n",
              "       'South Africa, United States, Germany',\n",
              "       'United States, Germany, United Kingdom, Australia',\n",
              "       'India, Soviet Union', 'Italy, France, Switzerland',\n",
              "       'Canada, France, United States', 'United States, Colombia',\n",
              "       'India, Malaysia', 'Switzerland, United States',\n",
              "       'Thailand, Canada, United States',\n",
              "       'China, Hong Kong, United States', 'United Kingdom, New Zealand',\n",
              "       'United Kingdom, France, Germany, United States',\n",
              "       'South Korea, Czech Republic',\n",
              "       'Czech Republic, United Kingdom, France',\n",
              "       'Australia, United Kingdom, Canada',\n",
              "       'Canada, United Kingdom, United States', 'United States, Hungary',\n",
              "       'Jamaica, United States', 'Switzerland',\n",
              "       'Australia, United Kingdom, United States, New Zealand, Italy, France',\n",
              "       'France, United States, Canada', 'Australia, United Kingdom',\n",
              "       'United States, Denmark',\n",
              "       'United Kingdom, France, Canada, Belgium, United States',\n",
              "       'Denmark, United Kingdom, Sweden', 'Belarus', 'Cyprus',\n",
              "       'Lebanon, United States, United Arab Emirates',\n",
              "       'United States, Hong Kong', 'United States, Kazakhstan',\n",
              "       'Argentina, France, United States, Germany, Qatar',\n",
              "       'United States, Germany, United Kingdom',\n",
              "       'United States, Germany, United Kingdom, Italy',\n",
              "       'United States, New Zealand, United Kingdom',\n",
              "       'Finland, United States', 'Spain, France, Uruguay',\n",
              "       'France, Belgium, United States', 'France, Canada, United States',\n",
              "       'Spain, Argentina', 'United Kingdom, India, United States',\n",
              "       'Chile, France',\n",
              "       'United States, United Kingdom, France, Germany, Japan',\n",
              "       'Canada, Norway', 'United States, Hungary, Ireland, Canada',\n",
              "       'United States, Canada, China', 'United Kingdom, Malawi',\n",
              "       'Ireland, Canada, Luxembourg, United States, United Kingdom, Philippines, India',\n",
              "       'United States, Czech Republic, United Kingdom',\n",
              "       'Ghana, United States', 'Israel, Germany', 'Spain, Mexico',\n",
              "       'Mexico, France', 'Brazil, United Kingdom',\n",
              "       'France, Belgium, Luxembourg, Romania, Canada, United States',\n",
              "       'Israel, Germany, Poland, Luxembourg, Belgium, France, United States',\n",
              "       'France, Germany', 'United States, Malta, France, United Kingdom',\n",
              "       'United Kingdom, United States, Germany, Denmark, Belgium, Japan',\n",
              "       'Austria, United States', 'Canada, Australia',\n",
              "       'Greece, United States',\n",
              "       'United Kingdom, France, Belgium, Canada, United States',\n",
              "       'Argentina, Chile', 'Czech Republic, Slovakia',\n",
              "       'United Kingdom, Germany, United States, France',\n",
              "       'United Kingdom, Lithuania', 'Egypt, France',\n",
              "       'Spain, France, Canada', 'United States, Greece, United Kingdom',\n",
              "       'United Kingdom, China, United States, India', 'Taiwan, Malaysia',\n",
              "       'United States, Sweden, Norway',\n",
              "       'United Kingdom, United States, Morocco',\n",
              "       'United States, United Kingdom, Morocco',\n",
              "       'United States, China, Canada', 'Spain, Canada, United States',\n",
              "       'Canada, Belgium', 'United States, India, United Arab Emirates',\n",
              "       'United Kingdom, Canada, France, United States',\n",
              "       'Spain, Thailand, United States', 'Canada, Germany, South Africa',\n",
              "       'India, Germany, France',\n",
              "       'United States, Israel, United Kingdom, Canada',\n",
              "       'United Kingdom, Hungary, Australia', 'Lebanon, France',\n",
              "       'Belgium, Ireland, Netherlands, Germany, Afghanistan',\n",
              "       'Chile, Peru', 'Paraguay, Argentina',\n",
              "       'United Kingdom, Italy, Israel, Peru, United States',\n",
              "       'Norway, Germany', 'France, Canada, Italy, United States, China',\n",
              "       'Netherlands, Germany, Denmark, United Kingdom', 'France, Lebanon',\n",
              "       'Ireland, United Kingdom, Greece, France, Netherlands',\n",
              "       'Denmark, Indonesia, Finland, Norway, United Kingdom, Israel, France, United States, Germany, Netherlands',\n",
              "       'New Zealand, United States', 'Argentina, Uruguay, Spain, France',\n",
              "       'United Kingdom, Germany, United States',\n",
              "       'United States, Australia, South Africa, United Kingdom',\n",
              "       'Italy, Belgium', 'United States, Germany, Mexico',\n",
              "       'Chile, Spain, Argentina, Germany', 'Germany, Italy',\n",
              "       'United Kingdom, Nigeria',\n",
              "       'Belgium, United Kingdom, United States', 'Australia, New Zealand',\n",
              "       'Spain, Switzerland', 'Indonesia, United States',\n",
              "       'Canada, South Korea, United States',\n",
              "       'France, Iran, United States', 'Croatia',\n",
              "       'Somalia, Kenya, Sudan, South Africa, United States',\n",
              "       'Ireland, France, Iceland, United States, Mexico, Belgium, United Kingdom, Hong Kong',\n",
              "       'Spain, United States', 'United States, Canada, Japan, Panama',\n",
              "       'United Kingdom, Spain, Belgium', 'Serbia, South Korea, Slovenia',\n",
              "       'Denmark, United Kingdom, South Africa, Sweden, Belgium',\n",
              "       'Germany, Canada, United States', 'Ireland, South Africa',\n",
              "       'Canada, Germany', 'Spain, France, Canada, United States',\n",
              "       'India, United Kingdom, Canada, United States',\n",
              "       'United States, Belgium, Canada',\n",
              "       'United States, France, Canada, Belgium',\n",
              "       'United Kingdom, Egypt, United States',\n",
              "       'United Kingdom, Germany, United Arab Emirates, New Zealand',\n",
              "       'United Kingdom, France, United States, Belgium, Luxembourg, China, Germany',\n",
              "       'United Kingdom, Spain, United States, Germany',\n",
              "       'United States, France, Italy, United Kingdom', 'Georgia',\n",
              "       'United States, United Kingdom, India',\n",
              "       'Ireland, Canada, United States, United Kingdom',\n",
              "       'New Zealand, United Kingdom, Australia', 'United States, Poland',\n",
              "       'United Arab Emirates, Romania',\n",
              "       'United Kingdom, Australia, Canada, United States',\n",
              "       'Mexico, Netherlands', 'Spain, Italy, Argentina',\n",
              "       'Germany, United States, Italy', 'United States, Venezuela',\n",
              "       'United Kingdom, Canada, Japan', 'Canada, Japan, Netherlands',\n",
              "       'United Kingdom, United States, Czech Republic',\n",
              "       'United Kingdom, China, United States',\n",
              "       'United Kingdom, Brazil, Germany',\n",
              "       'Thailand, China, United States',\n",
              "       'United Kingdom, Namibia, South Africa, Zimbabwe, United States',\n",
              "       'United Kingdom, South Africa, Australia, United States',\n",
              "       'Canada, United States, India, United Kingdom',\n",
              "       'United States, Brazil, South Korea, Mexico, Japan, Germany',\n",
              "       'France, Lebanon, United Kingdom',\n",
              "       'United Kingdom, Jordan, Qatar, Iran',\n",
              "       'Switzerland, United Kingdom, United States',\n",
              "       'Belgium, Netherlands',\n",
              "       'United Kingdom, Germany, France, United States',\n",
              "       'Romania, United Kingdom', 'Lebanon, Qatar',\n",
              "       'United Kingdom, India, Sweden', 'United Kingdom, Belgium',\n",
              "       'India, Pakistan', 'United Kingdom,',\n",
              "       'Saudi Arabia, Netherlands, Germany, Jordan, United Arab Emirates, United States',\n",
              "       'France, Brazil, Spain, Belgium',\n",
              "       'United States, Brazil, India, Uganda, China',\n",
              "       'United Kingdom, Ireland, United States',\n",
              "       'Lebanon, Canada, France', 'India, Australia',\n",
              "       'Austria, Iraq, United States', 'France, Norway, Lebanon, Belgium',\n",
              "       'United Kingdom, France, United States, Belgium',\n",
              "       'Saudi Arabia, United Arab Emirates',\n",
              "       'Peru, United States, United Kingdom',\n",
              "       'Germany, United States, United Kingdom, Canada',\n",
              "       'Uruguay, Argentina, Germany, Spain',\n",
              "       'France, Luxembourg, United States', 'United Kingdom, Spain',\n",
              "       'Canada, India, Thailand, United States, United Arab Emirates',\n",
              "       'Romania, Bulgaria, Hungary',\n",
              "       'United States, East Germany, West Germany',\n",
              "       'France, Netherlands, South Africa, Finland',\n",
              "       'United Kingdom, Ukraine, United States',\n",
              "       'Egypt, Austria, United States', 'Russia, Spain',\n",
              "       'Croatia, Slovenia, Serbia, Montenegro', 'Japan, Canada',\n",
              "       'United States, France, South Korea, Indonesia',\n",
              "       'United Arab Emirates, Jordan',\n",
              "       'Sweden, Czech Republic, United Kingdom, Denmark, Netherlands'],\n",
              "      dtype=object)"
            ]
          },
          "metadata": {},
          "execution_count": 160
        }
      ]
    },
    {
      "cell_type": "code",
      "source": [
        "netflix_data[['type','country']].value_counts()[-600:]"
      ],
      "metadata": {
        "colab": {
          "base_uri": "https://localhost:8080/"
        },
        "id": "1T5carsTMNtR",
        "outputId": "6d5787a0-bcee-438b-8ba9-459d3b7a2b0b"
      },
      "execution_count": 173,
      "outputs": [
        {
          "output_type": "execute_result",
          "data": {
            "text/plain": [
              "type     country                                            \n",
              "Movie    United Kingdom, Nigeria                                2\n",
              "         United States, Germany, Canada                         2\n",
              "         United Kingdom, Italy                                  2\n",
              "         United States, Greece                                  2\n",
              "         United Kingdom, India, United States                   2\n",
              "                                                               ..\n",
              "         Argentina, Brazil, France, Poland, Germany, Denmark    1\n",
              "         Thailand, China, United States                         1\n",
              "         Thailand, Canada, United States                        1\n",
              "         France, Canada, United States                          1\n",
              "TV Show  Uruguay, Germany                                       1\n",
              "Length: 600, dtype: int64"
            ]
          },
          "metadata": {},
          "execution_count": 173
        }
      ]
    },
    {
      "cell_type": "code",
      "source": [
        "country_type = netflix_data[['show_id','type','country']].groupby(['country','type']).count()\n",
        "country_type.head()"
      ],
      "metadata": {
        "colab": {
          "base_uri": "https://localhost:8080/",
          "height": 238
        },
        "id": "pQ-VVimYIeiA",
        "outputId": "0a8a5c44-6c0b-4894-d414-95eac9a4fe98"
      },
      "execution_count": 158,
      "outputs": [
        {
          "output_type": "execute_result",
          "data": {
            "text/plain": [
              "                                                            show_id\n",
              "country                                            type            \n",
              "Argentina                                          Movie         34\n",
              "                                                   TV Show       16\n",
              "Argentina, Brazil, France, Poland, Germany, Den... Movie          1\n",
              "Argentina, Chile                                   Movie          1\n",
              "Argentina, Chile, Peru                             Movie          1"
            ],
            "text/html": [
              "\n",
              "  <div id=\"df-73ed860d-df38-4fc8-8d9d-ee1a685be7bf\">\n",
              "    <div class=\"colab-df-container\">\n",
              "      <div>\n",
              "<style scoped>\n",
              "    .dataframe tbody tr th:only-of-type {\n",
              "        vertical-align: middle;\n",
              "    }\n",
              "\n",
              "    .dataframe tbody tr th {\n",
              "        vertical-align: top;\n",
              "    }\n",
              "\n",
              "    .dataframe thead th {\n",
              "        text-align: right;\n",
              "    }\n",
              "</style>\n",
              "<table border=\"1\" class=\"dataframe\">\n",
              "  <thead>\n",
              "    <tr style=\"text-align: right;\">\n",
              "      <th></th>\n",
              "      <th></th>\n",
              "      <th>show_id</th>\n",
              "    </tr>\n",
              "    <tr>\n",
              "      <th>country</th>\n",
              "      <th>type</th>\n",
              "      <th></th>\n",
              "    </tr>\n",
              "  </thead>\n",
              "  <tbody>\n",
              "    <tr>\n",
              "      <th rowspan=\"2\" valign=\"top\">Argentina</th>\n",
              "      <th>Movie</th>\n",
              "      <td>34</td>\n",
              "    </tr>\n",
              "    <tr>\n",
              "      <th>TV Show</th>\n",
              "      <td>16</td>\n",
              "    </tr>\n",
              "    <tr>\n",
              "      <th>Argentina, Brazil, France, Poland, Germany, Denmark</th>\n",
              "      <th>Movie</th>\n",
              "      <td>1</td>\n",
              "    </tr>\n",
              "    <tr>\n",
              "      <th>Argentina, Chile</th>\n",
              "      <th>Movie</th>\n",
              "      <td>1</td>\n",
              "    </tr>\n",
              "    <tr>\n",
              "      <th>Argentina, Chile, Peru</th>\n",
              "      <th>Movie</th>\n",
              "      <td>1</td>\n",
              "    </tr>\n",
              "  </tbody>\n",
              "</table>\n",
              "</div>\n",
              "      <button class=\"colab-df-convert\" onclick=\"convertToInteractive('df-73ed860d-df38-4fc8-8d9d-ee1a685be7bf')\"\n",
              "              title=\"Convert this dataframe to an interactive table.\"\n",
              "              style=\"display:none;\">\n",
              "        \n",
              "  <svg xmlns=\"http://www.w3.org/2000/svg\" height=\"24px\"viewBox=\"0 0 24 24\"\n",
              "       width=\"24px\">\n",
              "    <path d=\"M0 0h24v24H0V0z\" fill=\"none\"/>\n",
              "    <path d=\"M18.56 5.44l.94 2.06.94-2.06 2.06-.94-2.06-.94-.94-2.06-.94 2.06-2.06.94zm-11 1L8.5 8.5l.94-2.06 2.06-.94-2.06-.94L8.5 2.5l-.94 2.06-2.06.94zm10 10l.94 2.06.94-2.06 2.06-.94-2.06-.94-.94-2.06-.94 2.06-2.06.94z\"/><path d=\"M17.41 7.96l-1.37-1.37c-.4-.4-.92-.59-1.43-.59-.52 0-1.04.2-1.43.59L10.3 9.45l-7.72 7.72c-.78.78-.78 2.05 0 2.83L4 21.41c.39.39.9.59 1.41.59.51 0 1.02-.2 1.41-.59l7.78-7.78 2.81-2.81c.8-.78.8-2.07 0-2.86zM5.41 20L4 18.59l7.72-7.72 1.47 1.35L5.41 20z\"/>\n",
              "  </svg>\n",
              "      </button>\n",
              "      \n",
              "  <style>\n",
              "    .colab-df-container {\n",
              "      display:flex;\n",
              "      flex-wrap:wrap;\n",
              "      gap: 12px;\n",
              "    }\n",
              "\n",
              "    .colab-df-convert {\n",
              "      background-color: #E8F0FE;\n",
              "      border: none;\n",
              "      border-radius: 50%;\n",
              "      cursor: pointer;\n",
              "      display: none;\n",
              "      fill: #1967D2;\n",
              "      height: 32px;\n",
              "      padding: 0 0 0 0;\n",
              "      width: 32px;\n",
              "    }\n",
              "\n",
              "    .colab-df-convert:hover {\n",
              "      background-color: #E2EBFA;\n",
              "      box-shadow: 0px 1px 2px rgba(60, 64, 67, 0.3), 0px 1px 3px 1px rgba(60, 64, 67, 0.15);\n",
              "      fill: #174EA6;\n",
              "    }\n",
              "\n",
              "    [theme=dark] .colab-df-convert {\n",
              "      background-color: #3B4455;\n",
              "      fill: #D2E3FC;\n",
              "    }\n",
              "\n",
              "    [theme=dark] .colab-df-convert:hover {\n",
              "      background-color: #434B5C;\n",
              "      box-shadow: 0px 1px 3px 1px rgba(0, 0, 0, 0.15);\n",
              "      filter: drop-shadow(0px 1px 2px rgba(0, 0, 0, 0.3));\n",
              "      fill: #FFFFFF;\n",
              "    }\n",
              "  </style>\n",
              "\n",
              "      <script>\n",
              "        const buttonEl =\n",
              "          document.querySelector('#df-73ed860d-df38-4fc8-8d9d-ee1a685be7bf button.colab-df-convert');\n",
              "        buttonEl.style.display =\n",
              "          google.colab.kernel.accessAllowed ? 'block' : 'none';\n",
              "\n",
              "        async function convertToInteractive(key) {\n",
              "          const element = document.querySelector('#df-73ed860d-df38-4fc8-8d9d-ee1a685be7bf');\n",
              "          const dataTable =\n",
              "            await google.colab.kernel.invokeFunction('convertToInteractive',\n",
              "                                                     [key], {});\n",
              "          if (!dataTable) return;\n",
              "\n",
              "          const docLinkHtml = 'Like what you see? Visit the ' +\n",
              "            '<a target=\"_blank\" href=https://colab.research.google.com/notebooks/data_table.ipynb>data table notebook</a>'\n",
              "            + ' to learn more about interactive tables.';\n",
              "          element.innerHTML = '';\n",
              "          dataTable['output_type'] = 'display_data';\n",
              "          await google.colab.output.renderOutput(dataTable, element);\n",
              "          const docLink = document.createElement('div');\n",
              "          docLink.innerHTML = docLinkHtml;\n",
              "          element.appendChild(docLink);\n",
              "        }\n",
              "      </script>\n",
              "    </div>\n",
              "  </div>\n",
              "  "
            ]
          },
          "metadata": {},
          "execution_count": 158
        }
      ]
    },
    {
      "cell_type": "code",
      "source": [
        "# Using pivot function to create a table of index = country, columns = type, values = show_id\n",
        "country_type_pivoted = country_type.pivot('country', 'type', 'show_id')\n",
        "country_type_pivoted"
      ],
      "metadata": {
        "colab": {
          "base_uri": "https://localhost:8080/",
          "height": 518
        },
        "id": "Myc_ErWtIuDp",
        "outputId": "315c0b5f-7ad0-43c4-9f68-86da3d9e0fcb"
      },
      "execution_count": 166,
      "outputs": [
        {
          "output_type": "error",
          "ename": "KeyError",
          "evalue": "ignored",
          "traceback": [
            "\u001b[0;31m---------------------------------------------------------------------------\u001b[0m",
            "\u001b[0;31mKeyError\u001b[0m                                  Traceback (most recent call last)",
            "\u001b[0;32m/usr/local/lib/python3.7/dist-packages/pandas/core/indexes/base.py\u001b[0m in \u001b[0;36mget_loc\u001b[0;34m(self, key, method, tolerance)\u001b[0m\n\u001b[1;32m   3360\u001b[0m             \u001b[0;32mtry\u001b[0m\u001b[0;34m:\u001b[0m\u001b[0;34m\u001b[0m\u001b[0;34m\u001b[0m\u001b[0m\n\u001b[0;32m-> 3361\u001b[0;31m                 \u001b[0;32mreturn\u001b[0m \u001b[0mself\u001b[0m\u001b[0;34m.\u001b[0m\u001b[0m_engine\u001b[0m\u001b[0;34m.\u001b[0m\u001b[0mget_loc\u001b[0m\u001b[0;34m(\u001b[0m\u001b[0mcasted_key\u001b[0m\u001b[0;34m)\u001b[0m\u001b[0;34m\u001b[0m\u001b[0;34m\u001b[0m\u001b[0m\n\u001b[0m\u001b[1;32m   3362\u001b[0m             \u001b[0;32mexcept\u001b[0m \u001b[0mKeyError\u001b[0m \u001b[0;32mas\u001b[0m \u001b[0merr\u001b[0m\u001b[0;34m:\u001b[0m\u001b[0;34m\u001b[0m\u001b[0;34m\u001b[0m\u001b[0m\n",
            "\u001b[0;32m/usr/local/lib/python3.7/dist-packages/pandas/_libs/index.pyx\u001b[0m in \u001b[0;36mpandas._libs.index.IndexEngine.get_loc\u001b[0;34m()\u001b[0m\n",
            "\u001b[0;32m/usr/local/lib/python3.7/dist-packages/pandas/_libs/index.pyx\u001b[0m in \u001b[0;36mpandas._libs.index.IndexEngine.get_loc\u001b[0;34m()\u001b[0m\n",
            "\u001b[0;32mpandas/_libs/hashtable_class_helper.pxi\u001b[0m in \u001b[0;36mpandas._libs.hashtable.PyObjectHashTable.get_item\u001b[0;34m()\u001b[0m\n",
            "\u001b[0;32mpandas/_libs/hashtable_class_helper.pxi\u001b[0m in \u001b[0;36mpandas._libs.hashtable.PyObjectHashTable.get_item\u001b[0;34m()\u001b[0m\n",
            "\u001b[0;31mKeyError\u001b[0m: 'country'",
            "\nThe above exception was the direct cause of the following exception:\n",
            "\u001b[0;31mKeyError\u001b[0m                                  Traceback (most recent call last)",
            "\u001b[0;32m<ipython-input-166-6cefa9fde959>\u001b[0m in \u001b[0;36m<module>\u001b[0;34m()\u001b[0m\n\u001b[1;32m      1\u001b[0m \u001b[0;31m# Using pivot function to create a table of index = country, columns = type, values = show_id\u001b[0m\u001b[0;34m\u001b[0m\u001b[0;34m\u001b[0m\u001b[0;34m\u001b[0m\u001b[0m\n\u001b[0;32m----> 2\u001b[0;31m \u001b[0mcountry_type_pivoted\u001b[0m \u001b[0;34m=\u001b[0m \u001b[0mcountry_type\u001b[0m\u001b[0;34m.\u001b[0m\u001b[0mpivot\u001b[0m\u001b[0;34m(\u001b[0m\u001b[0;34m'country'\u001b[0m\u001b[0;34m,\u001b[0m \u001b[0;34m'type'\u001b[0m\u001b[0;34m,\u001b[0m \u001b[0;34m'show_id'\u001b[0m\u001b[0;34m)\u001b[0m\u001b[0;34m\u001b[0m\u001b[0;34m\u001b[0m\u001b[0m\n\u001b[0m\u001b[1;32m      3\u001b[0m \u001b[0mcountry_type_pivoted\u001b[0m\u001b[0;34m\u001b[0m\u001b[0;34m\u001b[0m\u001b[0m\n",
            "\u001b[0;32m/usr/local/lib/python3.7/dist-packages/pandas/core/frame.py\u001b[0m in \u001b[0;36mpivot\u001b[0;34m(self, index, columns, values)\u001b[0m\n\u001b[1;32m   7791\u001b[0m         \u001b[0;32mfrom\u001b[0m \u001b[0mpandas\u001b[0m\u001b[0;34m.\u001b[0m\u001b[0mcore\u001b[0m\u001b[0;34m.\u001b[0m\u001b[0mreshape\u001b[0m\u001b[0;34m.\u001b[0m\u001b[0mpivot\u001b[0m \u001b[0;32mimport\u001b[0m \u001b[0mpivot\u001b[0m\u001b[0;34m\u001b[0m\u001b[0;34m\u001b[0m\u001b[0m\n\u001b[1;32m   7792\u001b[0m \u001b[0;34m\u001b[0m\u001b[0m\n\u001b[0;32m-> 7793\u001b[0;31m         \u001b[0;32mreturn\u001b[0m \u001b[0mpivot\u001b[0m\u001b[0;34m(\u001b[0m\u001b[0mself\u001b[0m\u001b[0;34m,\u001b[0m \u001b[0mindex\u001b[0m\u001b[0;34m=\u001b[0m\u001b[0mindex\u001b[0m\u001b[0;34m,\u001b[0m \u001b[0mcolumns\u001b[0m\u001b[0;34m=\u001b[0m\u001b[0mcolumns\u001b[0m\u001b[0;34m,\u001b[0m \u001b[0mvalues\u001b[0m\u001b[0;34m=\u001b[0m\u001b[0mvalues\u001b[0m\u001b[0;34m)\u001b[0m\u001b[0;34m\u001b[0m\u001b[0;34m\u001b[0m\u001b[0m\n\u001b[0m\u001b[1;32m   7794\u001b[0m \u001b[0;34m\u001b[0m\u001b[0m\n\u001b[1;32m   7795\u001b[0m     _shared_docs[\n",
            "\u001b[0;32m/usr/local/lib/python3.7/dist-packages/pandas/core/reshape/pivot.py\u001b[0m in \u001b[0;36mpivot\u001b[0;34m(data, index, columns, values)\u001b[0m\n\u001b[1;32m    501\u001b[0m             \u001b[0mindex_list\u001b[0m \u001b[0;34m=\u001b[0m \u001b[0;34m[\u001b[0m\u001b[0mSeries\u001b[0m\u001b[0;34m(\u001b[0m\u001b[0mdata\u001b[0m\u001b[0;34m.\u001b[0m\u001b[0mindex\u001b[0m\u001b[0;34m,\u001b[0m \u001b[0mname\u001b[0m\u001b[0;34m=\u001b[0m\u001b[0mdata\u001b[0m\u001b[0;34m.\u001b[0m\u001b[0mindex\u001b[0m\u001b[0;34m.\u001b[0m\u001b[0mname\u001b[0m\u001b[0;34m)\u001b[0m\u001b[0;34m]\u001b[0m\u001b[0;34m\u001b[0m\u001b[0;34m\u001b[0m\u001b[0m\n\u001b[1;32m    502\u001b[0m         \u001b[0;32melse\u001b[0m\u001b[0;34m:\u001b[0m\u001b[0;34m\u001b[0m\u001b[0;34m\u001b[0m\u001b[0m\n\u001b[0;32m--> 503\u001b[0;31m             \u001b[0mindex_list\u001b[0m \u001b[0;34m=\u001b[0m \u001b[0;34m[\u001b[0m\u001b[0mdata\u001b[0m\u001b[0;34m[\u001b[0m\u001b[0midx\u001b[0m\u001b[0;34m]\u001b[0m \u001b[0;32mfor\u001b[0m \u001b[0midx\u001b[0m \u001b[0;32min\u001b[0m \u001b[0mcom\u001b[0m\u001b[0;34m.\u001b[0m\u001b[0mconvert_to_list_like\u001b[0m\u001b[0;34m(\u001b[0m\u001b[0mindex\u001b[0m\u001b[0;34m)\u001b[0m\u001b[0;34m]\u001b[0m\u001b[0;34m\u001b[0m\u001b[0;34m\u001b[0m\u001b[0m\n\u001b[0m\u001b[1;32m    504\u001b[0m \u001b[0;34m\u001b[0m\u001b[0m\n\u001b[1;32m    505\u001b[0m         \u001b[0mdata_columns\u001b[0m \u001b[0;34m=\u001b[0m \u001b[0;34m[\u001b[0m\u001b[0mdata\u001b[0m\u001b[0;34m[\u001b[0m\u001b[0mcol\u001b[0m\u001b[0;34m]\u001b[0m \u001b[0;32mfor\u001b[0m \u001b[0mcol\u001b[0m \u001b[0;32min\u001b[0m \u001b[0mcolumns_listlike\u001b[0m\u001b[0;34m]\u001b[0m\u001b[0;34m\u001b[0m\u001b[0;34m\u001b[0m\u001b[0m\n",
            "\u001b[0;32m/usr/local/lib/python3.7/dist-packages/pandas/core/reshape/pivot.py\u001b[0m in \u001b[0;36m<listcomp>\u001b[0;34m(.0)\u001b[0m\n\u001b[1;32m    501\u001b[0m             \u001b[0mindex_list\u001b[0m \u001b[0;34m=\u001b[0m \u001b[0;34m[\u001b[0m\u001b[0mSeries\u001b[0m\u001b[0;34m(\u001b[0m\u001b[0mdata\u001b[0m\u001b[0;34m.\u001b[0m\u001b[0mindex\u001b[0m\u001b[0;34m,\u001b[0m \u001b[0mname\u001b[0m\u001b[0;34m=\u001b[0m\u001b[0mdata\u001b[0m\u001b[0;34m.\u001b[0m\u001b[0mindex\u001b[0m\u001b[0;34m.\u001b[0m\u001b[0mname\u001b[0m\u001b[0;34m)\u001b[0m\u001b[0;34m]\u001b[0m\u001b[0;34m\u001b[0m\u001b[0;34m\u001b[0m\u001b[0m\n\u001b[1;32m    502\u001b[0m         \u001b[0;32melse\u001b[0m\u001b[0;34m:\u001b[0m\u001b[0;34m\u001b[0m\u001b[0;34m\u001b[0m\u001b[0m\n\u001b[0;32m--> 503\u001b[0;31m             \u001b[0mindex_list\u001b[0m \u001b[0;34m=\u001b[0m \u001b[0;34m[\u001b[0m\u001b[0mdata\u001b[0m\u001b[0;34m[\u001b[0m\u001b[0midx\u001b[0m\u001b[0;34m]\u001b[0m \u001b[0;32mfor\u001b[0m \u001b[0midx\u001b[0m \u001b[0;32min\u001b[0m \u001b[0mcom\u001b[0m\u001b[0;34m.\u001b[0m\u001b[0mconvert_to_list_like\u001b[0m\u001b[0;34m(\u001b[0m\u001b[0mindex\u001b[0m\u001b[0;34m)\u001b[0m\u001b[0;34m]\u001b[0m\u001b[0;34m\u001b[0m\u001b[0;34m\u001b[0m\u001b[0m\n\u001b[0m\u001b[1;32m    504\u001b[0m \u001b[0;34m\u001b[0m\u001b[0m\n\u001b[1;32m    505\u001b[0m         \u001b[0mdata_columns\u001b[0m \u001b[0;34m=\u001b[0m \u001b[0;34m[\u001b[0m\u001b[0mdata\u001b[0m\u001b[0;34m[\u001b[0m\u001b[0mcol\u001b[0m\u001b[0;34m]\u001b[0m \u001b[0;32mfor\u001b[0m \u001b[0mcol\u001b[0m \u001b[0;32min\u001b[0m \u001b[0mcolumns_listlike\u001b[0m\u001b[0;34m]\u001b[0m\u001b[0;34m\u001b[0m\u001b[0;34m\u001b[0m\u001b[0m\n",
            "\u001b[0;32m/usr/local/lib/python3.7/dist-packages/pandas/core/frame.py\u001b[0m in \u001b[0;36m__getitem__\u001b[0;34m(self, key)\u001b[0m\n\u001b[1;32m   3456\u001b[0m             \u001b[0;32mif\u001b[0m \u001b[0mself\u001b[0m\u001b[0;34m.\u001b[0m\u001b[0mcolumns\u001b[0m\u001b[0;34m.\u001b[0m\u001b[0mnlevels\u001b[0m \u001b[0;34m>\u001b[0m \u001b[0;36m1\u001b[0m\u001b[0;34m:\u001b[0m\u001b[0;34m\u001b[0m\u001b[0;34m\u001b[0m\u001b[0m\n\u001b[1;32m   3457\u001b[0m                 \u001b[0;32mreturn\u001b[0m \u001b[0mself\u001b[0m\u001b[0;34m.\u001b[0m\u001b[0m_getitem_multilevel\u001b[0m\u001b[0;34m(\u001b[0m\u001b[0mkey\u001b[0m\u001b[0;34m)\u001b[0m\u001b[0;34m\u001b[0m\u001b[0;34m\u001b[0m\u001b[0m\n\u001b[0;32m-> 3458\u001b[0;31m             \u001b[0mindexer\u001b[0m \u001b[0;34m=\u001b[0m \u001b[0mself\u001b[0m\u001b[0;34m.\u001b[0m\u001b[0mcolumns\u001b[0m\u001b[0;34m.\u001b[0m\u001b[0mget_loc\u001b[0m\u001b[0;34m(\u001b[0m\u001b[0mkey\u001b[0m\u001b[0;34m)\u001b[0m\u001b[0;34m\u001b[0m\u001b[0;34m\u001b[0m\u001b[0m\n\u001b[0m\u001b[1;32m   3459\u001b[0m             \u001b[0;32mif\u001b[0m \u001b[0mis_integer\u001b[0m\u001b[0;34m(\u001b[0m\u001b[0mindexer\u001b[0m\u001b[0;34m)\u001b[0m\u001b[0;34m:\u001b[0m\u001b[0;34m\u001b[0m\u001b[0;34m\u001b[0m\u001b[0m\n\u001b[1;32m   3460\u001b[0m                 \u001b[0mindexer\u001b[0m \u001b[0;34m=\u001b[0m \u001b[0;34m[\u001b[0m\u001b[0mindexer\u001b[0m\u001b[0;34m]\u001b[0m\u001b[0;34m\u001b[0m\u001b[0;34m\u001b[0m\u001b[0m\n",
            "\u001b[0;32m/usr/local/lib/python3.7/dist-packages/pandas/core/indexes/base.py\u001b[0m in \u001b[0;36mget_loc\u001b[0;34m(self, key, method, tolerance)\u001b[0m\n\u001b[1;32m   3361\u001b[0m                 \u001b[0;32mreturn\u001b[0m \u001b[0mself\u001b[0m\u001b[0;34m.\u001b[0m\u001b[0m_engine\u001b[0m\u001b[0;34m.\u001b[0m\u001b[0mget_loc\u001b[0m\u001b[0;34m(\u001b[0m\u001b[0mcasted_key\u001b[0m\u001b[0;34m)\u001b[0m\u001b[0;34m\u001b[0m\u001b[0;34m\u001b[0m\u001b[0m\n\u001b[1;32m   3362\u001b[0m             \u001b[0;32mexcept\u001b[0m \u001b[0mKeyError\u001b[0m \u001b[0;32mas\u001b[0m \u001b[0merr\u001b[0m\u001b[0;34m:\u001b[0m\u001b[0;34m\u001b[0m\u001b[0;34m\u001b[0m\u001b[0m\n\u001b[0;32m-> 3363\u001b[0;31m                 \u001b[0;32mraise\u001b[0m \u001b[0mKeyError\u001b[0m\u001b[0;34m(\u001b[0m\u001b[0mkey\u001b[0m\u001b[0;34m)\u001b[0m \u001b[0;32mfrom\u001b[0m \u001b[0merr\u001b[0m\u001b[0;34m\u001b[0m\u001b[0;34m\u001b[0m\u001b[0m\n\u001b[0m\u001b[1;32m   3364\u001b[0m \u001b[0;34m\u001b[0m\u001b[0m\n\u001b[1;32m   3365\u001b[0m         \u001b[0;32mif\u001b[0m \u001b[0mis_scalar\u001b[0m\u001b[0;34m(\u001b[0m\u001b[0mkey\u001b[0m\u001b[0;34m)\u001b[0m \u001b[0;32mand\u001b[0m \u001b[0misna\u001b[0m\u001b[0;34m(\u001b[0m\u001b[0mkey\u001b[0m\u001b[0;34m)\u001b[0m \u001b[0;32mand\u001b[0m \u001b[0;32mnot\u001b[0m \u001b[0mself\u001b[0m\u001b[0;34m.\u001b[0m\u001b[0mhasnans\u001b[0m\u001b[0;34m:\u001b[0m\u001b[0;34m\u001b[0m\u001b[0;34m\u001b[0m\u001b[0m\n",
            "\u001b[0;31mKeyError\u001b[0m: 'country'"
          ]
        }
      ]
    },
    {
      "cell_type": "code",
      "source": [
        "plt.figure(figsize=(9,6))\n",
        "plots = netflix_data['country'].value_counts()[:10].plot(kind='bar',animated=True)\n",
        "plt.xlabel('Country',fontsize=13)\n",
        "plt.xticks(rotation=50,color='Green',size=12)\n",
        "\n",
        "plt.ylabel('Number of Movies',fontsize=13)\n",
        "plt.title('Top 10 countries based on content count',fontsize=17)\n",
        "\n",
        "# Iterrating over the bars one-by-one\n",
        "for bar in plots.patches:\n",
        "    plots.annotate(format(bar.get_height()),\n",
        "                   (bar.get_x() + bar.get_width() / 2,\n",
        "                    bar.get_height()), ha='center', va='center',\n",
        "                   size=12, xytext=(0, 8),\n",
        "                   textcoords='offset points')"
      ],
      "metadata": {
        "id": "s5sy74LFEEYi"
      },
      "execution_count": null,
      "outputs": []
    },
    {
      "cell_type": "code",
      "source": [
        "# View the data\n",
        "netflix_data.head()"
      ],
      "metadata": {
        "colab": {
          "base_uri": "https://localhost:8080/",
          "height": 337
        },
        "id": "wGI34Bg9oJzE",
        "outputId": "50163599-1091-435e-9ed6-965d628a9d1d"
      },
      "execution_count": 98,
      "outputs": [
        {
          "output_type": "execute_result",
          "data": {
            "text/plain": [
              "  show_id     type  title           director  \\\n",
              "0      s1  TV Show     3%                NaN   \n",
              "1      s2    Movie   7:19  Jorge Michel Grau   \n",
              "2      s3    Movie  23:59       Gilbert Chan   \n",
              "3      s4    Movie      9        Shane Acker   \n",
              "4      s5    Movie     21     Robert Luketic   \n",
              "\n",
              "                                                cast        country  \\\n",
              "0  João Miguel, Bianca Comparato, Michel Gomes, R...         Brazil   \n",
              "1  Demián Bichir, Héctor Bonilla, Oscar Serrano, ...         Mexico   \n",
              "2  Tedd Chan, Stella Chung, Henley Hii, Lawrence ...      Singapore   \n",
              "3  Elijah Wood, John C. Reilly, Jennifer Connelly...  United States   \n",
              "4  Jim Sturgess, Kevin Spacey, Kate Bosworth, Aar...  United States   \n",
              "\n",
              "          date_added  release_year rating   duration  \\\n",
              "0    August 14, 2020          2020  TV-MA  4 Seasons   \n",
              "1  December 23, 2016          2016  TV-MA     93 min   \n",
              "2  December 20, 2018          2011      R     78 min   \n",
              "3  November 16, 2017          2009  PG-13     80 min   \n",
              "4    January 1, 2020          2008  PG-13    123 min   \n",
              "\n",
              "                                           listed_in  \\\n",
              "0  International TV Shows, TV Dramas, TV Sci-Fi &...   \n",
              "1                       Dramas, International Movies   \n",
              "2                Horror Movies, International Movies   \n",
              "3  Action & Adventure, Independent Movies, Sci-Fi...   \n",
              "4                                             Dramas   \n",
              "\n",
              "                                         description  \n",
              "0  In a future where the elite inhabit an island ...  \n",
              "1  After a devastating earthquake hits Mexico Cit...  \n",
              "2  When an army recruit is found dead, his fellow...  \n",
              "3  In a postapocalyptic world, rag-doll robots hi...  \n",
              "4  A brilliant group of students become card-coun...  "
            ],
            "text/html": [
              "\n",
              "  <div id=\"df-91813f21-0159-4ce3-b55a-cc8bdac756ec\">\n",
              "    <div class=\"colab-df-container\">\n",
              "      <div>\n",
              "<style scoped>\n",
              "    .dataframe tbody tr th:only-of-type {\n",
              "        vertical-align: middle;\n",
              "    }\n",
              "\n",
              "    .dataframe tbody tr th {\n",
              "        vertical-align: top;\n",
              "    }\n",
              "\n",
              "    .dataframe thead th {\n",
              "        text-align: right;\n",
              "    }\n",
              "</style>\n",
              "<table border=\"1\" class=\"dataframe\">\n",
              "  <thead>\n",
              "    <tr style=\"text-align: right;\">\n",
              "      <th></th>\n",
              "      <th>show_id</th>\n",
              "      <th>type</th>\n",
              "      <th>title</th>\n",
              "      <th>director</th>\n",
              "      <th>cast</th>\n",
              "      <th>country</th>\n",
              "      <th>date_added</th>\n",
              "      <th>release_year</th>\n",
              "      <th>rating</th>\n",
              "      <th>duration</th>\n",
              "      <th>listed_in</th>\n",
              "      <th>description</th>\n",
              "    </tr>\n",
              "  </thead>\n",
              "  <tbody>\n",
              "    <tr>\n",
              "      <th>0</th>\n",
              "      <td>s1</td>\n",
              "      <td>TV Show</td>\n",
              "      <td>3%</td>\n",
              "      <td>NaN</td>\n",
              "      <td>João Miguel, Bianca Comparato, Michel Gomes, R...</td>\n",
              "      <td>Brazil</td>\n",
              "      <td>August 14, 2020</td>\n",
              "      <td>2020</td>\n",
              "      <td>TV-MA</td>\n",
              "      <td>4 Seasons</td>\n",
              "      <td>International TV Shows, TV Dramas, TV Sci-Fi &amp;...</td>\n",
              "      <td>In a future where the elite inhabit an island ...</td>\n",
              "    </tr>\n",
              "    <tr>\n",
              "      <th>1</th>\n",
              "      <td>s2</td>\n",
              "      <td>Movie</td>\n",
              "      <td>7:19</td>\n",
              "      <td>Jorge Michel Grau</td>\n",
              "      <td>Demián Bichir, Héctor Bonilla, Oscar Serrano, ...</td>\n",
              "      <td>Mexico</td>\n",
              "      <td>December 23, 2016</td>\n",
              "      <td>2016</td>\n",
              "      <td>TV-MA</td>\n",
              "      <td>93 min</td>\n",
              "      <td>Dramas, International Movies</td>\n",
              "      <td>After a devastating earthquake hits Mexico Cit...</td>\n",
              "    </tr>\n",
              "    <tr>\n",
              "      <th>2</th>\n",
              "      <td>s3</td>\n",
              "      <td>Movie</td>\n",
              "      <td>23:59</td>\n",
              "      <td>Gilbert Chan</td>\n",
              "      <td>Tedd Chan, Stella Chung, Henley Hii, Lawrence ...</td>\n",
              "      <td>Singapore</td>\n",
              "      <td>December 20, 2018</td>\n",
              "      <td>2011</td>\n",
              "      <td>R</td>\n",
              "      <td>78 min</td>\n",
              "      <td>Horror Movies, International Movies</td>\n",
              "      <td>When an army recruit is found dead, his fellow...</td>\n",
              "    </tr>\n",
              "    <tr>\n",
              "      <th>3</th>\n",
              "      <td>s4</td>\n",
              "      <td>Movie</td>\n",
              "      <td>9</td>\n",
              "      <td>Shane Acker</td>\n",
              "      <td>Elijah Wood, John C. Reilly, Jennifer Connelly...</td>\n",
              "      <td>United States</td>\n",
              "      <td>November 16, 2017</td>\n",
              "      <td>2009</td>\n",
              "      <td>PG-13</td>\n",
              "      <td>80 min</td>\n",
              "      <td>Action &amp; Adventure, Independent Movies, Sci-Fi...</td>\n",
              "      <td>In a postapocalyptic world, rag-doll robots hi...</td>\n",
              "    </tr>\n",
              "    <tr>\n",
              "      <th>4</th>\n",
              "      <td>s5</td>\n",
              "      <td>Movie</td>\n",
              "      <td>21</td>\n",
              "      <td>Robert Luketic</td>\n",
              "      <td>Jim Sturgess, Kevin Spacey, Kate Bosworth, Aar...</td>\n",
              "      <td>United States</td>\n",
              "      <td>January 1, 2020</td>\n",
              "      <td>2008</td>\n",
              "      <td>PG-13</td>\n",
              "      <td>123 min</td>\n",
              "      <td>Dramas</td>\n",
              "      <td>A brilliant group of students become card-coun...</td>\n",
              "    </tr>\n",
              "  </tbody>\n",
              "</table>\n",
              "</div>\n",
              "      <button class=\"colab-df-convert\" onclick=\"convertToInteractive('df-91813f21-0159-4ce3-b55a-cc8bdac756ec')\"\n",
              "              title=\"Convert this dataframe to an interactive table.\"\n",
              "              style=\"display:none;\">\n",
              "        \n",
              "  <svg xmlns=\"http://www.w3.org/2000/svg\" height=\"24px\"viewBox=\"0 0 24 24\"\n",
              "       width=\"24px\">\n",
              "    <path d=\"M0 0h24v24H0V0z\" fill=\"none\"/>\n",
              "    <path d=\"M18.56 5.44l.94 2.06.94-2.06 2.06-.94-2.06-.94-.94-2.06-.94 2.06-2.06.94zm-11 1L8.5 8.5l.94-2.06 2.06-.94-2.06-.94L8.5 2.5l-.94 2.06-2.06.94zm10 10l.94 2.06.94-2.06 2.06-.94-2.06-.94-.94-2.06-.94 2.06-2.06.94z\"/><path d=\"M17.41 7.96l-1.37-1.37c-.4-.4-.92-.59-1.43-.59-.52 0-1.04.2-1.43.59L10.3 9.45l-7.72 7.72c-.78.78-.78 2.05 0 2.83L4 21.41c.39.39.9.59 1.41.59.51 0 1.02-.2 1.41-.59l7.78-7.78 2.81-2.81c.8-.78.8-2.07 0-2.86zM5.41 20L4 18.59l7.72-7.72 1.47 1.35L5.41 20z\"/>\n",
              "  </svg>\n",
              "      </button>\n",
              "      \n",
              "  <style>\n",
              "    .colab-df-container {\n",
              "      display:flex;\n",
              "      flex-wrap:wrap;\n",
              "      gap: 12px;\n",
              "    }\n",
              "\n",
              "    .colab-df-convert {\n",
              "      background-color: #E8F0FE;\n",
              "      border: none;\n",
              "      border-radius: 50%;\n",
              "      cursor: pointer;\n",
              "      display: none;\n",
              "      fill: #1967D2;\n",
              "      height: 32px;\n",
              "      padding: 0 0 0 0;\n",
              "      width: 32px;\n",
              "    }\n",
              "\n",
              "    .colab-df-convert:hover {\n",
              "      background-color: #E2EBFA;\n",
              "      box-shadow: 0px 1px 2px rgba(60, 64, 67, 0.3), 0px 1px 3px 1px rgba(60, 64, 67, 0.15);\n",
              "      fill: #174EA6;\n",
              "    }\n",
              "\n",
              "    [theme=dark] .colab-df-convert {\n",
              "      background-color: #3B4455;\n",
              "      fill: #D2E3FC;\n",
              "    }\n",
              "\n",
              "    [theme=dark] .colab-df-convert:hover {\n",
              "      background-color: #434B5C;\n",
              "      box-shadow: 0px 1px 3px 1px rgba(0, 0, 0, 0.15);\n",
              "      filter: drop-shadow(0px 1px 2px rgba(0, 0, 0, 0.3));\n",
              "      fill: #FFFFFF;\n",
              "    }\n",
              "  </style>\n",
              "\n",
              "      <script>\n",
              "        const buttonEl =\n",
              "          document.querySelector('#df-91813f21-0159-4ce3-b55a-cc8bdac756ec button.colab-df-convert');\n",
              "        buttonEl.style.display =\n",
              "          google.colab.kernel.accessAllowed ? 'block' : 'none';\n",
              "\n",
              "        async function convertToInteractive(key) {\n",
              "          const element = document.querySelector('#df-91813f21-0159-4ce3-b55a-cc8bdac756ec');\n",
              "          const dataTable =\n",
              "            await google.colab.kernel.invokeFunction('convertToInteractive',\n",
              "                                                     [key], {});\n",
              "          if (!dataTable) return;\n",
              "\n",
              "          const docLinkHtml = 'Like what you see? Visit the ' +\n",
              "            '<a target=\"_blank\" href=https://colab.research.google.com/notebooks/data_table.ipynb>data table notebook</a>'\n",
              "            + ' to learn more about interactive tables.';\n",
              "          element.innerHTML = '';\n",
              "          dataTable['output_type'] = 'display_data';\n",
              "          await google.colab.output.renderOutput(dataTable, element);\n",
              "          const docLink = document.createElement('div');\n",
              "          docLink.innerHTML = docLinkHtml;\n",
              "          element.appendChild(docLink);\n",
              "        }\n",
              "      </script>\n",
              "    </div>\n",
              "  </div>\n",
              "  "
            ]
          },
          "metadata": {},
          "execution_count": 98
        }
      ]
    },
    {
      "cell_type": "code",
      "source": [
        ""
      ],
      "metadata": {
        "id": "u4KipPCRqHoX"
      },
      "execution_count": null,
      "outputs": []
    }
  ]
}